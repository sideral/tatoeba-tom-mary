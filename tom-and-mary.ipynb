{
 "cells": [
  {
   "cell_type": "code",
   "execution_count": 1,
   "metadata": {},
   "outputs": [
    {
     "name": "stderr",
     "output_type": "stream",
     "text": [
      "/home/sideral/anaconda3/envs/yask-experiments/lib/python3.7/site-packages/tqdm/std.py:666: FutureWarning: The Panel class is removed from pandas. Accessing it from the top-level namespace will also be removed in the next version\n",
      "  from pandas import Panel\n"
     ]
    }
   ],
   "source": [
    "import pandas as pd\n",
    "import os \n",
    "import random\n",
    "from tqdm import tqdm\n",
    "from nltk.tokenize import sent_tokenize, word_tokenize\n",
    "from difflib import SequenceMatcher\n",
    "import re\n",
    "import pickle\n",
    "import numpy as np\n",
    "from transformers import MarianMTModel, MarianTokenizer\n",
    "import time\n",
    "\n",
    "tqdm.pandas()"
   ]
  },
  {
   "cell_type": "code",
   "execution_count": 2,
   "metadata": {},
   "outputs": [],
   "source": [
    "# Regexes to find Tom and Mary in several languages\n",
    "tom_mary = {\n",
    "    'Tom':   {\n",
    "        'eng': 'Tom',\n",
    "        'spa': 'Tom(ás)?',\n",
    "        'rus': 'Том(а|ом|у)?',\n",
    "        'ita': 'Tom(maso)?',\n",
    "        'fra': '(Tom|Thomas)',\n",
    "        'hat': 'Tom',\n",
    "        'por': 'Tom',\n",
    "        'deu': 'Tom(s)?',\n",
    "        'nld': '(Tom(s)?|Thomas)',\n",
    "        'dan': 'Tom(s)?',\n",
    "        'nob': 'Tom(s|i)?',\n",
    "        'swe': 'Tom(s|i)?',\n",
    "        'fin': \"Tom(m|')?(i(n|lla|a|lle|sta|lta|in|sta|ssa|kin|i|l|kaan|st|tta)?|kaan)?\"\n",
    "    },\n",
    "    'Mary': {\n",
    "        'eng': 'Mar(y|ia|ie)',\n",
    "        'spa': 'Mar(y|ía|ia)',\n",
    "        'fra': 'Mar(y|ie|ia)',\n",
    "        'rus': '(Мэри|Мари(я|и|у|ей)|Маш(у|а|ей|и))',\n",
    "        'ita': 'Mar(ie|ia|y|i)',\n",
    "        'hat': 'Mary',\n",
    "        'por': 'Mar(y|ia)',\n",
    "        'deu': 'Mar(y|ia|i)(s)?',\n",
    "        'nld': 'Mar(y|ia|ie|yam)',\n",
    "        'dan': 'Mar(y|ia|ie|i)(s)?',\n",
    "        'nob': 'Mar(y|ia|ie|i)(s)?',\n",
    "        'swe': 'Mar(y|ia|ie|i)(s)?',\n",
    "        'fin': 'Mar(i|y)(n|a|lle|sta|a|lla|lta|ä|ja|in|stä|yn|llä|aa|en)?'\n",
    "    }\n",
    "}\n",
    "\n",
    "# Common names for substitution\n",
    "names = {\n",
    "    'eng': {\n",
    "        'male':  [\n",
    "            'Omar', 'Peter', 'Santiago', 'Daniel', 'William', 'Luis', 'James', 'John', 'Robert', 'Gabriel',\n",
    "            'Oliver', 'Jonas', 'Charlie', 'Jack', 'Leonardo', 'David', 'Alexander', 'Sergei', 'Abraham', 'Tatsuki'\n",
    "        ],\n",
    "        'female': [\n",
    "            'Anna', 'Emily', 'Natalia', 'Salma', 'Valentina', 'Olivia', 'Amelia', 'Viktoria', 'Anastasia',\n",
    "            'Maryam', 'Sakura', 'Charlotte', 'Sarah', 'Ashley', 'Samantha', 'Laura', 'Latifa', 'Carlota', 'Eva',\n",
    "            'Olga'\n",
    "        ]\n",
    "    }\n",
    "}"
   ]
  },
  {
   "cell_type": "code",
   "execution_count": 3,
   "metadata": {},
   "outputs": [],
   "source": [
    "class DataSource:\n",
    "    iso_map = {\n",
    "        \"eng\": \"en\",\n",
    "        \"rus\": \"ru\",\n",
    "        \"ita\": \"it\",\n",
    "        \"deu\": \"de\",\n",
    "        \"fra\": \"fr\",\n",
    "        \"por\": \"pt\",\n",
    "        \"spa\": \"es\",\n",
    "        \"nld\": \"nl\",\n",
    "        \"fin\": \"fi\",\n",
    "        \"dan\": \"da\",\n",
    "        \"swe\": \"sv\",\n",
    "        \"nob\": \"no\",\n",
    "        \"hat\": \"ht\"\n",
    "    }\n",
    "    \n",
    "    \n",
    "    def __init__(self, *, data_path: str, name_patterns : dict, new_names: dict, seed: int = 42):\n",
    "        self.name_patterns = name_patterns\n",
    "        self.new_names = new_names\n",
    "        self.data_path = data_path\n",
    "        self.languages = list(self.iso_map.keys())\n",
    "        self.sentences = self._load_sentences()\n",
    "        self.translations = self._load_translations()\n",
    "        random.seed(seed)\n",
    "        \n",
    "        \n",
    "    def _load_sentences(self):\n",
    "        path = os.path.join(self.data_path, 'sentences.csv')\n",
    "        sentences = pd.read_csv(path, sep='\\t', names=['tatoeba_id', 'language', 'sentence'])\n",
    "        sentences = sentences[sentences['language'].isin(self.languages)]\n",
    "        return sentences.set_index('tatoeba_id', drop=False).sort_index()\n",
    "    \n",
    "    \n",
    "    def _load_translations(self):\n",
    "        path = os.path.join(self.data_path, 'links.csv')\n",
    "        translations = pd.read_csv(path, sep='\\t', names = ['source', 'target'])\n",
    "        translations = translations.set_index('target', drop=False).join(self.sentences).dropna()[[\n",
    "            'source', 'target', 'language'\n",
    "        ]].rename(columns = {'language': 'target_language'})\n",
    "\n",
    "        translations = translations.set_index('source', drop=False).join(self.sentences).dropna()[[\n",
    "            'source', 'target', 'language', 'target_language'\n",
    "        ]].rename(columns = {'language': 'source_language'})\n",
    "\n",
    "        return translations\n",
    "    \n",
    "    \n",
    "    def random_name(self, gender: str, lang: str):\n",
    "        return random.sample(self.new_names[lang][gender], 1)[0]\n",
    "    \n",
    "    \n",
    "    def name_sentences(self, name: str, lang: str):\n",
    "        pattern = self.name_patterns[name][lang]\n",
    "        lang_sentences = self.sentences.loc[self.sentences['language'] == lang]\n",
    "        name_regex = r'\\b' + pattern + r'\\b'\n",
    "        return lang_sentences[lang_sentences['sentence'].str.contains(name_regex, regex=True)]\n",
    "    \n",
    "    \n",
    "    def name_pattern(self, name: str, lang: str):\n",
    "        return self.name_patterns[name][lang]\n",
    "    \n",
    "    \n",
    "    def iso(self, lang: str):\n",
    "        return self.iso_map[lang]\n",
    "\n",
    "    \n",
    "    def find_translations(self, source_ids, tgt_lang):\n",
    "        ids = self.translations[\n",
    "            (self.translations['source'].isin(source_ids)) & (self.translations['target_language'] == 'eng')\n",
    "        ]\n",
    "        groups = ids.groupby(['source'])['target'].apply(list)\n",
    "        keys = []\n",
    "        mapping = {}\n",
    "        for source_id in source_ids:\n",
    "            try: \n",
    "                key = groups.loc[[source_id]].to_list()[0][0]\n",
    "                keys.append(key)\n",
    "                mapping[source_id] = key\n",
    "            except KeyError:\n",
    "                mapping[source_id] = None\n",
    "\n",
    "        targets = self.sentences.loc[keys]['sentence'].to_dict()\n",
    "        return {k: targets[v] if v is not None else None for (k,v) in mapping.items()}"
   ]
  },
  {
   "cell_type": "code",
   "execution_count": 4,
   "metadata": {},
   "outputs": [],
   "source": [
    "class NameGenerator: \n",
    "    def __init__(self, *, data: DataSource, name: str, gender: str, init_lang: str, max_depth: int = 15):\n",
    "        self.data = data\n",
    "        self.replacement_map = {}\n",
    "        self.max_depth = max_depth\n",
    "        self.name = name\n",
    "        self.gender = gender\n",
    "        self.init_lang = init_lang\n",
    "        self.takeback_ids = []\n",
    "        \n",
    "        \n",
    "    def generate(self):\n",
    "        self._fill_replacement_map()\n",
    "        return len(self.replacement_map)\n",
    "    \n",
    "    \n",
    "    def save(self, data_path):\n",
    "        path = os.path.join(data_path, self.name.lower() + '_replacements.pkl')\n",
    "        with open(path, 'wb') as file:\n",
    "            pickle.dump(self.replacement_map, file, protocol=pickle.HIGHEST_PROTOCOL)\n",
    "    \n",
    "    \n",
    "    def load(self, data_path):\n",
    "        path = os.path.join(data_path, self.name.lower() + '_replacements.pkl')\n",
    "        with open(path, 'rb') as file:\n",
    "            self.replacement_map = pickle.load(file)\n",
    "    \n",
    "    \n",
    "    def get_name_replacement(self, tatoeba_id):\n",
    "        if tatoeba_id not in self.replacement_map:\n",
    "            self._fill_for_ids([tatoeba_id])\n",
    "        return self.replacement_map[tatoeba_id]\n",
    "    \n",
    "    \n",
    "    def takeback(self, tatoeba_id, depth=0):\n",
    "        if depth > self.max_depth:\n",
    "            return\n",
    "        if tatoeba_id not in self.takeback_ids:\n",
    "            self.takeback_ids.append(tatoeba_id)\n",
    "            translations = self.data.translations[self.data.translations['source'] == tatoeba_id]\n",
    "            self._takeback_translations(translations, depth)\n",
    "    \n",
    "    \n",
    "    def _takeback_translations(self, translations, depth):\n",
    "        for tatoeba_id in translations['target']:\n",
    "            self.takeback(tatoeba_id, depth+1)\n",
    "        \n",
    "\n",
    "    def _fill_replacement_map(self):\n",
    "        sentences = self.data.name_sentences(self.name, self.init_lang)\n",
    "        self._fill_for_ids(sentences['tatoeba_id'])\n",
    "    \n",
    "    \n",
    "    def _fill_for_ids(self, sentence_ids, depth=0):\n",
    "        if depth > self.max_depth:\n",
    "            return\n",
    "        for tatoeba_id in sentence_ids:\n",
    "            if tatoeba_id not in self.replacement_map:\n",
    "                translations = self.data.translations[self.data.translations['source'] == tatoeba_id]\n",
    "                self.replacement_map[tatoeba_id] = self._get_name(translations)\n",
    "                print(len(self.replacement_map), end='\\r')\n",
    "                self._fill_translations(translations, depth)\n",
    "            \n",
    "    \n",
    "    def _fill_translations(self, translations, depth):\n",
    "        for language in self.data.languages:\n",
    "            targets = translations[translations['target_language'] == language]['target']\n",
    "            self._fill_for_ids(targets, depth + 1)\n",
    "    \n",
    "    \n",
    "    def _get_name(self, translations):\n",
    "        # First try to find if some translation already has a name\n",
    "        for tatoeba_id in translations['target']:\n",
    "            if tatoeba_id in self.replacement_map:\n",
    "                return self.replacement_map[tatoeba_id]\n",
    "        # If not, generate a new name at random\n",
    "        return self.data.random_name(self.gender, self.init_lang)"
   ]
  },
  {
   "cell_type": "code",
   "execution_count": 5,
   "metadata": {},
   "outputs": [],
   "source": [
    "class Translator: \n",
    "    models = {}\n",
    "    cache = {}\n",
    "\n",
    "    def translate(self, text: str, src_lang: str, tgt_lang: str):\n",
    "        cached = self.cache.pop(text, None)\n",
    "        if cached:\n",
    "            return cached\n",
    "        translations = self.translate_batch([text], src_lang, tgt_lang)\n",
    "        return translations[0]\n",
    "\n",
    "\n",
    "    def translate_batch(self, texts: list, src_lang: str, tgt_lang: str):\n",
    "        model, tokenizer = self._load_model(src_lang, tgt_lang)\n",
    "\n",
    "        # The target language is specified as a special token within the source string\n",
    "        batch = [f'>>{tgt_lang}<< {text}' for text in texts]\n",
    "\n",
    "        translated = model.generate(**tokenizer.prepare_translation_batch(batch))\n",
    "        translations = [tokenizer.decode(t, skip_special_tokens=True) for t in translated]\n",
    "\n",
    "        # Resulting translations sometimes contain weird characters at the start, remove them\n",
    "        translations = [re.sub(r'^(▸|▪|::|\\-|□|–|\"|\\*|♪)\\s*', '', t) for t in translations]\n",
    "\n",
    "        translations = [\n",
    "            re.sub(r'\\.$', '', translations[i]) if texts[i][-1] != '.' else translations[i] \n",
    "            for i in range(len(translations))\n",
    "        ]\n",
    " \n",
    "        return translations\n",
    "\n",
    "    \n",
    "    def translate_fast(self, texts: list, src_lang: str, tgt_lang: str):\n",
    "        model, tokenizer = self._load_model(src_lang, tgt_lang)\n",
    "        \n",
    "        texts = [' @123. '.join(t) for t in np.array_split(texts, len(texts)//2 + 1)]\n",
    "        \n",
    "        # The target language is specified as a special token within the source string\n",
    "        batch = [f'>>{tgt_lang}<< {text}' for text in texts]\n",
    "\n",
    "        translated = model.generate(**tokenizer.prepare_translation_batch(batch))\n",
    "        translations = [tokenizer.decode(t, skip_special_tokens=True) for t in translated]\n",
    "\n",
    "        # Resulting translations sometimes contain weird characters at the start, remove them\n",
    "        translations = [re.sub(r'^(▸|▪|::|\\-|□|–|\"|\\*|♪)\\s*', '', t) for t in translations]\n",
    "\n",
    "        translations = [\n",
    "            re.sub(r'\\.$', '', translations[i]) if texts[i][-1] != '.' else translations[i] \n",
    "            for i in range(len(translations))\n",
    "        ]\n",
    "        \n",
    "        translations = [re.split('@123\\.?', t) for t in translations]\n",
    "        return [t.strip() for tl in translations for t in tl if t.strip() != '']\n",
    " \n",
    "\n",
    "    def cache_translations(self, texts: list, src_lang: str, tgt_lang: str, fast: bool):\n",
    "        if fast:\n",
    "            translations = self.translate_fast(texts, src_lang, tgt_lang)\n",
    "            if len(texts) != len(translations):\n",
    "                print('Failed fast translation')\n",
    "                translations = self.translate_batch(texts, src_lang, tgt_lang)\n",
    "        else:\n",
    "            translations = self.translate_batch(texts, src_lang, tgt_lang)\n",
    "            \n",
    "        for idx, translation in enumerate(translations):\n",
    "            self.cache[texts[idx]] = translation\n",
    "    \n",
    "    \n",
    "    def _get_model_name(self, src_lang, tgt_lang):\n",
    "        # There are only two models from romance languages to English and back\n",
    "        romance_langs = [\"fr\", \"es\", \"it\", \"pt\", \"ro\", \"ca\", \"gl\", \"la\", \"wa\", \"fur\", \"oc\", \"sc\", \"an\", \"frp\", \"lad\", \"vec\", \"co\", \"lld\", \"lij\", \"lmo\", \"nap\", \"rm\", \"scn\", \"mwl\"]\n",
    "        src_lang = 'ROMANCE' if src_lang in romance_langs and tgt_lang == 'en' else src_lang\n",
    "        tgt_lang = 'ROMANCE' if tgt_lang in romance_langs and src_lang == 'en' else tgt_lang\n",
    "        tgt_lang = 'NORWAY' if tgt_lang == 'no' else tgt_lang\n",
    "        return 'Helsinki-NLP/opus-mt-{0}-{1}'.format(src_lang, tgt_lang)\n",
    "\n",
    "\n",
    "    def _load_model(self, src_lang, tgt_lang):\n",
    "        model_name = self._get_model_name(src_lang, tgt_lang)\n",
    "        if model_name not in self.models:\n",
    "            print('Loading ' + model_name)\n",
    "            model = MarianMTModel.from_pretrained(model_name)\n",
    "            tokenizer = MarianTokenizer.from_pretrained(model_name)\n",
    "            # Save the loaded model in 'models' to speed up its later use\n",
    "            self.models[model_name] = (model, tokenizer)\n",
    "        else:\n",
    "            model, tokenizer = self.models[model_name]\n",
    "        return model, tokenizer "
   ]
  },
  {
   "cell_type": "code",
   "execution_count": null,
   "metadata": {},
   "outputs": [],
   "source": [
    "sentences = data.name_sentences('Tom', 'eng').sample(150)['sentence'].to_list()\n",
    "translator = Translator()\n",
    "translations = translator.translate_fast(sentences, 'en', 'fr')\n",
    "print(len(translations))\n",
    "translations"
   ]
  },
  {
   "cell_type": "code",
   "execution_count": 6,
   "metadata": {},
   "outputs": [],
   "source": [
    "class NameReplacer:\n",
    "    basic_langs = ['eng', 'spa', 'ita', 'hat', 'por']\n",
    "    \n",
    "    def __init__(self, *, name: str, translator: Translator, data: DataSource, init_lang: str):\n",
    "        assert init_lang in self.basic_langs\n",
    "        self.translator = translator\n",
    "        self.data = data\n",
    "        self.init_lang = init_lang\n",
    "        self.name = name\n",
    "    \n",
    "    \n",
    "    def replace_name(self, *, new_name: str, lang: str, sentence: str, ref_sentence: str = None):\n",
    "        if lang in self.basic_langs:\n",
    "            return self._replace_basic(new_name, sentence, lang)\n",
    "        else:\n",
    "            return self._replace_inflected(new_name, sentence, ref_sentence, lang)\n",
    "    \n",
    "    \n",
    "    def is_basic(self, lang):\n",
    "        return lang in self.basic_langs\n",
    "    \n",
    "\n",
    "    def _replace_basic(self, new_name: str, sentence: str, lang: str):\n",
    "        old_name = self.data.name_pattern(self.name, lang)\n",
    "        return re.sub(old_name, new_name, sentence)\n",
    "\n",
    "\n",
    "    def _replace_inflected(self, new_name: str, sentence: str, ref_sentence: str, lang: str):\n",
    "        assert ref_sentence is not None\n",
    "         \n",
    "        # Translate the original sentence (with the old name) into the target language\n",
    "        ref_translated = self.translator.translate(\n",
    "            ref_sentence, self.data.iso(self.init_lang), self.data.iso(lang)\n",
    "        )\n",
    "        # Replace the name in the original sentence with the new name\n",
    "        ref_replaced = self.replace_name(\n",
    "            new_name=new_name, lang=self.init_lang, sentence=ref_sentence\n",
    "        )\n",
    "        # Translate the previous sentence (with the new name) into the target language \n",
    "        ref_replaced_translated = self.translator.translate(\n",
    "            ref_replaced, self.data.iso(self.init_lang), self.data.iso(lang)\n",
    "        )\n",
    "        \n",
    "        # Get the difference between both translations, hoping that the thing that changed was the name or some\n",
    "        # sorrounding text, in order to find the most likely inflection of the replaced name in the target language\n",
    "        repls = self._find_replacements(ref_translated, ref_replaced_translated)\n",
    "        \n",
    "        #print(ref_translated, ref_replaced_translated, repls)\n",
    "\n",
    "        # Don't replace if it finds more than one replacement, because the ambiguity might cause serious mistakes.\n",
    "        if len(repls) > 1 or len(repls) == 0:\n",
    "            return None\n",
    "\n",
    "        repl = repls[0]\n",
    "        old_name = self.data.name_pattern(self.name, lang)\n",
    "        # If it doesn't detect the name to replace, just return the sentence untouched\n",
    "        if re.search(old_name, repl[0]) is None:\n",
    "            return None\n",
    "\n",
    "        # Replace name by its regular expression to match all variations\n",
    "        name_pattern = re.sub(old_name, old_name, repl[0])\n",
    "        return re.sub(name_pattern, repl[1], sentence)\n",
    "\n",
    "    \n",
    "    def _find_replacements(self, base, replaced): \n",
    "        base = word_tokenize(base)\n",
    "        replaced = word_tokenize(replaced)\n",
    "        s = SequenceMatcher(None, base, replaced)\n",
    "        replacements = []\n",
    "        for tag, i1, i2, j1, j2 in s.get_opcodes():\n",
    "            if tag == 'replace':\n",
    "                replacements.append((' '.join(base[i1:i2]), ' '.join(replaced[j1:j2])))\n",
    "        return replacements"
   ]
  },
  {
   "cell_type": "code",
   "execution_count": 7,
   "metadata": {},
   "outputs": [],
   "source": [
    "class BulkReplacer:\n",
    "    def __init__(self, *, generator: NameGenerator, data: DataSource):\n",
    "        self.data = data\n",
    "        self.generator = generator\n",
    "        self.init_lang = generator.init_lang\n",
    "        self.translator = Translator()\n",
    "        self.replacer = NameReplacer(\n",
    "            name=generator.name, init_lang=self.init_lang, translator=self.translator, data=data\n",
    "        )\n",
    "        \n",
    "    \n",
    "    def replace_lang_names(self, lang, fast=False):\n",
    "        lang_sentences = self.data.name_sentences(self.generator.name, lang)\n",
    "        chunks = []\n",
    "        for chunk in tqdm(np.array_split(lang_sentences, len(lang_sentences)//150 + 1)):\n",
    "            refs = []\n",
    "            if not self.replacer.is_basic(lang):\n",
    "                refs = self._prepare_refs(chunk, lang, fast)\n",
    "            chunk['sentence_new'] = chunk.apply(\n",
    "                lambda row: self._replace_row(row, lang, refs), axis=1\n",
    "            )\n",
    "            chunks.append(chunk)\n",
    "        return pd.concat(chunks)\n",
    "        \n",
    "    \n",
    "    def _prepare_refs(self, chunk, lang, fast):\n",
    "        ids = chunk['tatoeba_id'].to_list()\n",
    "        refs = self.data.find_translations(ids, self.init_lang)\n",
    "        texts = [v for (k,v) in refs.items() if v is not None]\n",
    "        self.translator.cache_translations(texts, self.data.iso(self.init_lang), self.data.iso(lang), fast)\n",
    "        tatoeba_ids = chunk['tatoeba_id'].to_list()\n",
    "        sentences = chunk['sentence'].to_list()\n",
    "        \n",
    "        replaced_refs = []\n",
    "        for tatoeba_id in tatoeba_ids:\n",
    "            if refs[tatoeba_id] is not None:\n",
    "                new_name = self.generator.get_name_replacement(tatoeba_id)\n",
    "                ref_replaced = self.replacer.replace_name(\n",
    "                    new_name=new_name, lang=self.init_lang, sentence=refs[tatoeba_id]\n",
    "                )\n",
    "                replaced_refs.append(ref_replaced)\n",
    "        \n",
    "        self.translator.cache_translations(replaced_refs, self.data.iso(self.init_lang), self.data.iso(lang), fast)\n",
    "        return refs\n",
    "    \n",
    "    \n",
    "    def _replace_row(self, row, lang, refs):\n",
    "        new_name = self.generator.get_name_replacement(row['tatoeba_id'])\n",
    "        ref = refs[row['tatoeba_id']] if row['tatoeba_id'] in refs else None\n",
    "        if ref is None and not self.replacer.is_basic(lang):\n",
    "            ref = self.translator.translate(\n",
    "                row['sentence'], self.data.iso(lang), self.data.iso(self.init_lang)\n",
    "            )\n",
    "        \n",
    "        new_sentence = self.replacer.replace_name(\n",
    "            new_name=new_name, lang=lang, sentence=row['sentence'], ref_sentence=ref\n",
    "        )\n",
    "        \n",
    "        if new_sentence is None:\n",
    "            new_sentence = row['sentence']\n",
    "            self.generator.takeback(row['tatoeba_id'])\n",
    "        return new_sentence"
   ]
  },
  {
   "cell_type": "code",
   "execution_count": 8,
   "metadata": {},
   "outputs": [],
   "source": [
    "data = DataSource(data_path='../data/sources/tatoeba', name_patterns=tom_mary, new_names=names)"
   ]
  },
  {
   "cell_type": "code",
   "execution_count": 9,
   "metadata": {},
   "outputs": [],
   "source": [
    "generator = NameGenerator(name='Tom', gender='male', init_lang='eng', data=data)\n",
    "#generator.generate()\n",
    "\n",
    "generator.load('../data/objects')\n",
    "\n",
    "#generator.generate()\n",
    "#generator.save('../data/objects')\n",
    "\n",
    "bulk = BulkReplacer(generator=generator, data=data)"
   ]
  },
  {
   "cell_type": "code",
   "execution_count": null,
   "metadata": {
    "scrolled": false
   },
   "outputs": [
    {
     "name": "stderr",
     "output_type": "stream",
     "text": [
      "/home/sideral/anaconda3/envs/yask-experiments/lib/python3.7/site-packages/pandas/core/strings.py:1954: UserWarning: This pattern has match groups. To actually get the groups, use str.extract.\n",
      "  return func(self, *args, **kwargs)\n",
      "  0%|          | 0/880 [00:00<?, ?it/s]"
     ]
    },
    {
     "name": "stdout",
     "output_type": "stream",
     "text": [
      "Loading Helsinki-NLP/opus-mt-en-ru\n"
     ]
    },
    {
     "name": "stderr",
     "output_type": "stream",
     "text": [
      "/home/sideral/anaconda3/envs/yask-experiments/lib/python3.7/site-packages/transformers/tokenization_utils.py:831: FutureWarning: Parameter max_len is deprecated and will be removed in a future release. Use model_max_length instead.\n",
      "  category=FutureWarning,\n"
     ]
    },
    {
     "name": "stdout",
     "output_type": "stream",
     "text": [
      "Loading Helsinki-NLP/opus-mt-ru-en\n"
     ]
    },
    {
     "name": "stderr",
     "output_type": "stream",
     "text": [
      "/home/sideral/anaconda3/envs/yask-experiments/lib/python3.7/site-packages/transformers/tokenization_utils.py:831: FutureWarning: Parameter max_len is deprecated and will be removed in a future release. Use model_max_length instead.\n",
      "  category=FutureWarning,\n",
      "  0%|          | 2/880 [03:50<26:48:55, 109.95s/it]"
     ]
    },
    {
     "name": "stdout",
     "output_type": "stream",
     "text": [
      "818442\r"
     ]
    },
    {
     "name": "stderr",
     "output_type": "stream",
     "text": [
      "\r",
      "  0%|          | 3/880 [05:07<24:21:29, 99.99s/it] "
     ]
    },
    {
     "name": "stdout",
     "output_type": "stream",
     "text": [
      "818447\r"
     ]
    },
    {
     "name": "stderr",
     "output_type": "stream",
     "text": [
      "\r",
      "  0%|          | 4/880 [06:19<22:18:04, 91.65s/it]"
     ]
    },
    {
     "name": "stdout",
     "output_type": "stream",
     "text": [
      "818457\r"
     ]
    },
    {
     "name": "stderr",
     "output_type": "stream",
     "text": [
      "\r",
      "  1%|          | 5/880 [07:16<19:46:07, 81.33s/it]"
     ]
    },
    {
     "name": "stdout",
     "output_type": "stream",
     "text": [
      "818459\r"
     ]
    },
    {
     "name": "stderr",
     "output_type": "stream",
     "text": [
      "\r",
      "  1%|          | 6/880 [08:32<19:18:52, 79.56s/it]"
     ]
    },
    {
     "name": "stdout",
     "output_type": "stream",
     "text": [
      "818462\r"
     ]
    },
    {
     "name": "stderr",
     "output_type": "stream",
     "text": [
      "\r",
      "  1%|          | 7/880 [09:29<17:39:47, 72.84s/it]"
     ]
    },
    {
     "name": "stdout",
     "output_type": "stream",
     "text": [
      "818464\r"
     ]
    },
    {
     "name": "stderr",
     "output_type": "stream",
     "text": [
      "\r",
      "  1%|          | 8/880 [10:23<16:16:06, 67.16s/it]"
     ]
    },
    {
     "name": "stdout",
     "output_type": "stream",
     "text": [
      "818476\r"
     ]
    },
    {
     "name": "stderr",
     "output_type": "stream",
     "text": [
      "\r",
      "  1%|          | 9/880 [12:04<18:40:25, 77.18s/it]"
     ]
    },
    {
     "name": "stdout",
     "output_type": "stream",
     "text": [
      "818500\r"
     ]
    },
    {
     "name": "stderr",
     "output_type": "stream",
     "text": [
      "\r",
      "  1%|          | 10/880 [13:45<20:23:59, 84.41s/it]"
     ]
    },
    {
     "name": "stdout",
     "output_type": "stream",
     "text": [
      "818522\r"
     ]
    },
    {
     "name": "stderr",
     "output_type": "stream",
     "text": [
      "\r",
      "  1%|▏         | 11/880 [15:20<21:07:54, 87.54s/it]"
     ]
    },
    {
     "name": "stdout",
     "output_type": "stream",
     "text": [
      "818542\r"
     ]
    },
    {
     "name": "stderr",
     "output_type": "stream",
     "text": [
      "\r",
      "  1%|▏         | 12/880 [17:11<22:49:26, 94.66s/it]"
     ]
    },
    {
     "name": "stdout",
     "output_type": "stream",
     "text": [
      "818578\r"
     ]
    },
    {
     "name": "stderr",
     "output_type": "stream",
     "text": [
      "\r",
      "  1%|▏         | 13/880 [18:46<22:49:39, 94.79s/it]"
     ]
    },
    {
     "name": "stdout",
     "output_type": "stream",
     "text": [
      "818592\r"
     ]
    },
    {
     "name": "stderr",
     "output_type": "stream",
     "text": [
      "\r",
      "  2%|▏         | 14/880 [19:53<20:45:42, 86.31s/it]"
     ]
    },
    {
     "name": "stdout",
     "output_type": "stream",
     "text": [
      "818615\r"
     ]
    },
    {
     "name": "stderr",
     "output_type": "stream",
     "text": [
      "\r",
      "  2%|▏         | 15/880 [21:17<20:37:30, 85.84s/it]"
     ]
    },
    {
     "name": "stdout",
     "output_type": "stream",
     "text": [
      "818646\r"
     ]
    },
    {
     "name": "stderr",
     "output_type": "stream",
     "text": [
      "\r",
      "  2%|▏         | 16/880 [22:44<20:38:47, 86.03s/it]"
     ]
    },
    {
     "name": "stdout",
     "output_type": "stream",
     "text": [
      "818686\r"
     ]
    },
    {
     "name": "stderr",
     "output_type": "stream",
     "text": [
      "\r",
      "  2%|▏         | 17/880 [24:23<21:35:53, 90.10s/it]"
     ]
    },
    {
     "name": "stdout",
     "output_type": "stream",
     "text": [
      "818715\r"
     ]
    },
    {
     "name": "stderr",
     "output_type": "stream",
     "text": [
      "\r",
      "  2%|▏         | 18/880 [26:08<22:35:40, 94.36s/it]"
     ]
    },
    {
     "name": "stdout",
     "output_type": "stream",
     "text": [
      "818727\r"
     ]
    },
    {
     "name": "stderr",
     "output_type": "stream",
     "text": [
      "\r",
      "  2%|▏         | 19/880 [27:37<22:12:51, 92.88s/it]"
     ]
    },
    {
     "name": "stdout",
     "output_type": "stream",
     "text": [
      "818743\r"
     ]
    },
    {
     "name": "stderr",
     "output_type": "stream",
     "text": [
      "  2%|▏         | 21/880 [30:07<19:51:33, 83.23s/it]"
     ]
    },
    {
     "name": "stdout",
     "output_type": "stream",
     "text": [
      "818746\r"
     ]
    },
    {
     "name": "stderr",
     "output_type": "stream",
     "text": [
      "\r",
      "  2%|▎         | 22/880 [31:16<18:53:07, 79.24s/it]"
     ]
    },
    {
     "name": "stdout",
     "output_type": "stream",
     "text": [
      "818747\r",
      "818748\r",
      "818749\r",
      "818750\r",
      "818751\r",
      "818752\r",
      "818753\r",
      "818754\r",
      "818755\r"
     ]
    },
    {
     "name": "stderr",
     "output_type": "stream",
     "text": [
      "\r",
      "  3%|▎         | 23/880 [32:47<19:41:23, 82.71s/it]"
     ]
    },
    {
     "name": "stdout",
     "output_type": "stream",
     "text": [
      "818763\r"
     ]
    },
    {
     "name": "stderr",
     "output_type": "stream",
     "text": [
      "\r",
      "  3%|▎         | 24/880 [34:29<21:00:27, 88.35s/it]"
     ]
    },
    {
     "name": "stdout",
     "output_type": "stream",
     "text": [
      "818767\r"
     ]
    },
    {
     "name": "stderr",
     "output_type": "stream",
     "text": [
      "\r",
      "  3%|▎         | 25/880 [37:23<27:04:46, 114.02s/it]"
     ]
    },
    {
     "name": "stdout",
     "output_type": "stream",
     "text": [
      "818768\r",
      "818769\r"
     ]
    },
    {
     "name": "stderr",
     "output_type": "stream",
     "text": [
      "  3%|▎         | 27/880 [40:03<22:47:15, 96.17s/it] "
     ]
    },
    {
     "name": "stdout",
     "output_type": "stream",
     "text": [
      "818773\r"
     ]
    },
    {
     "name": "stderr",
     "output_type": "stream",
     "text": [
      "\r",
      "  3%|▎         | 28/880 [41:16<21:06:04, 89.16s/it]"
     ]
    },
    {
     "name": "stdout",
     "output_type": "stream",
     "text": [
      "818790\r"
     ]
    },
    {
     "name": "stderr",
     "output_type": "stream",
     "text": [
      "\r",
      "  3%|▎         | 29/880 [42:55<21:46:05, 92.09s/it]"
     ]
    },
    {
     "name": "stdout",
     "output_type": "stream",
     "text": [
      "818806\r"
     ]
    },
    {
     "name": "stderr",
     "output_type": "stream",
     "text": [
      "\r",
      "  3%|▎         | 30/880 [44:41<22:43:40, 96.26s/it]"
     ]
    },
    {
     "name": "stdout",
     "output_type": "stream",
     "text": [
      "818812\r"
     ]
    },
    {
     "name": "stderr",
     "output_type": "stream",
     "text": [
      "\r",
      "  4%|▎         | 31/880 [46:40<24:18:15, 103.06s/it]"
     ]
    },
    {
     "name": "stdout",
     "output_type": "stream",
     "text": [
      "818851\r"
     ]
    },
    {
     "name": "stderr",
     "output_type": "stream",
     "text": [
      "\r",
      "  4%|▎         | 32/880 [48:13<23:35:19, 100.14s/it]"
     ]
    },
    {
     "name": "stdout",
     "output_type": "stream",
     "text": [
      "818871\r"
     ]
    },
    {
     "name": "stderr",
     "output_type": "stream",
     "text": [
      "\r",
      "  4%|▍         | 33/880 [49:48<23:12:52, 98.67s/it] "
     ]
    },
    {
     "name": "stdout",
     "output_type": "stream",
     "text": [
      "818875\r"
     ]
    },
    {
     "name": "stderr",
     "output_type": "stream",
     "text": [
      "\r",
      "  4%|▍         | 34/880 [51:27<23:11:12, 98.67s/it]"
     ]
    },
    {
     "name": "stdout",
     "output_type": "stream",
     "text": [
      "818882\r"
     ]
    },
    {
     "name": "stderr",
     "output_type": "stream",
     "text": [
      "\r",
      "  4%|▍         | 35/880 [52:31<20:45:39, 88.45s/it]"
     ]
    },
    {
     "name": "stdout",
     "output_type": "stream",
     "text": [
      "818887\r"
     ]
    },
    {
     "name": "stderr",
     "output_type": "stream",
     "text": [
      "\r",
      "  4%|▍         | 36/880 [53:48<19:54:52, 84.94s/it]"
     ]
    },
    {
     "name": "stdout",
     "output_type": "stream",
     "text": [
      "818889\r"
     ]
    },
    {
     "name": "stderr",
     "output_type": "stream",
     "text": [
      "\r",
      "  4%|▍         | 37/880 [55:06<19:22:55, 82.77s/it]"
     ]
    },
    {
     "name": "stdout",
     "output_type": "stream",
     "text": [
      "818894\r"
     ]
    },
    {
     "name": "stderr",
     "output_type": "stream",
     "text": [
      "\r",
      "  4%|▍         | 38/880 [56:33<19:40:24, 84.11s/it]"
     ]
    },
    {
     "name": "stdout",
     "output_type": "stream",
     "text": [
      "818897\r"
     ]
    },
    {
     "name": "stderr",
     "output_type": "stream",
     "text": [
      "\r",
      "  4%|▍         | 39/880 [57:35<18:05:52, 77.47s/it]"
     ]
    },
    {
     "name": "stdout",
     "output_type": "stream",
     "text": [
      "818976\r"
     ]
    },
    {
     "name": "stderr",
     "output_type": "stream",
     "text": [
      "\r",
      "  5%|▍         | 40/880 [59:27<20:28:27, 87.75s/it]"
     ]
    },
    {
     "name": "stdout",
     "output_type": "stream",
     "text": [
      "818998\r"
     ]
    },
    {
     "name": "stderr",
     "output_type": "stream",
     "text": [
      "\r",
      "  5%|▍         | 41/880 [1:01:12<21:40:00, 92.97s/it]"
     ]
    },
    {
     "name": "stdout",
     "output_type": "stream",
     "text": [
      "819006\r"
     ]
    },
    {
     "name": "stderr",
     "output_type": "stream",
     "text": [
      "\r",
      "  5%|▍         | 42/880 [1:02:51<22:05:59, 94.94s/it]"
     ]
    },
    {
     "name": "stdout",
     "output_type": "stream",
     "text": [
      "819014\r"
     ]
    },
    {
     "name": "stderr",
     "output_type": "stream",
     "text": [
      "\r",
      "  5%|▍         | 43/880 [1:04:12<21:06:06, 90.76s/it]"
     ]
    },
    {
     "name": "stdout",
     "output_type": "stream",
     "text": [
      "819049\r"
     ]
    },
    {
     "name": "stderr",
     "output_type": "stream",
     "text": [
      "\r",
      "  5%|▌         | 44/880 [1:05:32<20:19:16, 87.51s/it]"
     ]
    },
    {
     "name": "stdout",
     "output_type": "stream",
     "text": [
      "819059\r"
     ]
    },
    {
     "name": "stderr",
     "output_type": "stream",
     "text": [
      "\r",
      "  5%|▌         | 45/880 [1:07:21<21:46:19, 93.87s/it]"
     ]
    },
    {
     "name": "stdout",
     "output_type": "stream",
     "text": [
      "819078\r"
     ]
    },
    {
     "name": "stderr",
     "output_type": "stream",
     "text": [
      "\r",
      "  5%|▌         | 46/880 [1:08:58<21:55:40, 94.65s/it]"
     ]
    },
    {
     "name": "stdout",
     "output_type": "stream",
     "text": [
      "819087\r"
     ]
    },
    {
     "name": "stderr",
     "output_type": "stream",
     "text": [
      "\r",
      "  5%|▌         | 47/880 [1:10:41<22:30:41, 97.29s/it]"
     ]
    },
    {
     "name": "stdout",
     "output_type": "stream",
     "text": [
      "819091\r"
     ]
    },
    {
     "name": "stderr",
     "output_type": "stream",
     "text": [
      "\r",
      "  5%|▌         | 48/880 [1:11:47<20:17:55, 87.83s/it]"
     ]
    },
    {
     "name": "stdout",
     "output_type": "stream",
     "text": [
      "819094\r"
     ]
    },
    {
     "name": "stderr",
     "output_type": "stream",
     "text": [
      "\r",
      "  6%|▌         | 49/880 [1:13:07<19:44:47, 85.55s/it]"
     ]
    },
    {
     "name": "stdout",
     "output_type": "stream",
     "text": [
      "819104\r"
     ]
    },
    {
     "name": "stderr",
     "output_type": "stream",
     "text": [
      "\r",
      "  6%|▌         | 50/880 [1:14:34<19:48:32, 85.92s/it]"
     ]
    },
    {
     "name": "stdout",
     "output_type": "stream",
     "text": [
      "819128\r"
     ]
    },
    {
     "name": "stderr",
     "output_type": "stream",
     "text": [
      "\r",
      "  6%|▌         | 51/880 [1:16:01<19:52:40, 86.32s/it]"
     ]
    },
    {
     "name": "stdout",
     "output_type": "stream",
     "text": [
      "819140\r"
     ]
    },
    {
     "name": "stderr",
     "output_type": "stream",
     "text": [
      "\r",
      "  6%|▌         | 52/880 [1:17:35<20:23:13, 88.64s/it]"
     ]
    },
    {
     "name": "stdout",
     "output_type": "stream",
     "text": [
      "819158\r"
     ]
    },
    {
     "name": "stderr",
     "output_type": "stream",
     "text": [
      "\r",
      "  6%|▌         | 53/880 [1:19:44<23:06:44, 100.61s/it]"
     ]
    },
    {
     "name": "stdout",
     "output_type": "stream",
     "text": [
      "819167\r"
     ]
    },
    {
     "name": "stderr",
     "output_type": "stream",
     "text": [
      "\r",
      "  6%|▌         | 54/880 [1:21:03<21:37:11, 94.23s/it] "
     ]
    },
    {
     "name": "stdout",
     "output_type": "stream",
     "text": [
      "819178\r"
     ]
    },
    {
     "name": "stderr",
     "output_type": "stream",
     "text": [
      "\r",
      "  6%|▋         | 55/880 [1:22:18<20:17:51, 88.57s/it]"
     ]
    },
    {
     "name": "stdout",
     "output_type": "stream",
     "text": [
      "819192\r"
     ]
    },
    {
     "name": "stderr",
     "output_type": "stream",
     "text": [
      "\r",
      "  6%|▋         | 56/880 [1:23:50<20:30:12, 89.58s/it]"
     ]
    },
    {
     "name": "stdout",
     "output_type": "stream",
     "text": [
      "819211\r"
     ]
    },
    {
     "name": "stderr",
     "output_type": "stream",
     "text": [
      "\r",
      "  6%|▋         | 57/880 [1:25:39<21:47:56, 95.35s/it]"
     ]
    },
    {
     "name": "stdout",
     "output_type": "stream",
     "text": [
      "819215\r"
     ]
    },
    {
     "name": "stderr",
     "output_type": "stream",
     "text": [
      "\r",
      "  7%|▋         | 58/880 [1:27:12<21:35:21, 94.55s/it]"
     ]
    },
    {
     "name": "stdout",
     "output_type": "stream",
     "text": [
      "819235\r"
     ]
    },
    {
     "name": "stderr",
     "output_type": "stream",
     "text": [
      "\r",
      "  7%|▋         | 59/880 [1:28:47<21:37:48, 94.85s/it]"
     ]
    },
    {
     "name": "stdout",
     "output_type": "stream",
     "text": [
      "819236\r"
     ]
    },
    {
     "name": "stderr",
     "output_type": "stream",
     "text": [
      "\r",
      "  7%|▋         | 60/880 [1:31:20<25:35:10, 112.33s/it]"
     ]
    },
    {
     "name": "stdout",
     "output_type": "stream",
     "text": [
      "819272\r"
     ]
    },
    {
     "name": "stderr",
     "output_type": "stream",
     "text": [
      "\r",
      "  7%|▋         | 61/880 [1:33:11<25:24:14, 111.67s/it]"
     ]
    },
    {
     "name": "stdout",
     "output_type": "stream",
     "text": [
      "819279\r"
     ]
    },
    {
     "name": "stderr",
     "output_type": "stream",
     "text": [
      "\r",
      "  7%|▋         | 62/880 [1:34:44<24:07:25, 106.17s/it]"
     ]
    },
    {
     "name": "stdout",
     "output_type": "stream",
     "text": [
      "819287\r"
     ]
    },
    {
     "name": "stderr",
     "output_type": "stream",
     "text": [
      "\r",
      "  7%|▋         | 63/880 [1:36:49<25:21:32, 111.74s/it]"
     ]
    },
    {
     "name": "stdout",
     "output_type": "stream",
     "text": [
      "819288\r",
      "819289\r"
     ]
    },
    {
     "name": "stderr",
     "output_type": "stream",
     "text": [
      "\r",
      "  7%|▋         | 64/880 [1:37:52<22:00:23, 97.09s/it] "
     ]
    },
    {
     "name": "stdout",
     "output_type": "stream",
     "text": [
      "819292\r"
     ]
    },
    {
     "name": "stderr",
     "output_type": "stream",
     "text": [
      "\r",
      "  7%|▋         | 65/880 [1:39:11<20:45:47, 91.71s/it]"
     ]
    },
    {
     "name": "stdout",
     "output_type": "stream",
     "text": [
      "819299\r"
     ]
    },
    {
     "name": "stderr",
     "output_type": "stream",
     "text": [
      "\r",
      "  8%|▊         | 66/880 [1:41:02<22:05:33, 97.71s/it]"
     ]
    },
    {
     "name": "stdout",
     "output_type": "stream",
     "text": [
      "819300\r"
     ]
    },
    {
     "name": "stderr",
     "output_type": "stream",
     "text": [
      "\r",
      "  8%|▊         | 67/880 [1:42:19<20:36:52, 91.28s/it]"
     ]
    },
    {
     "name": "stdout",
     "output_type": "stream",
     "text": [
      "819311\r"
     ]
    },
    {
     "name": "stderr",
     "output_type": "stream",
     "text": [
      "\r",
      "  8%|▊         | 68/880 [1:43:29<19:10:04, 84.98s/it]"
     ]
    },
    {
     "name": "stdout",
     "output_type": "stream",
     "text": [
      "819312\r",
      "819313\r"
     ]
    },
    {
     "name": "stderr",
     "output_type": "stream",
     "text": [
      "\r",
      "  8%|▊         | 69/880 [1:44:59<19:28:31, 86.45s/it]"
     ]
    },
    {
     "name": "stdout",
     "output_type": "stream",
     "text": [
      "819315\r"
     ]
    },
    {
     "name": "stderr",
     "output_type": "stream",
     "text": [
      "\r",
      "  8%|▊         | 70/880 [1:46:35<20:06:15, 89.35s/it]"
     ]
    },
    {
     "name": "stdout",
     "output_type": "stream",
     "text": [
      "819346\r"
     ]
    },
    {
     "name": "stderr",
     "output_type": "stream",
     "text": [
      "\r",
      "  8%|▊         | 71/880 [1:47:58<19:40:08, 87.53s/it]"
     ]
    },
    {
     "name": "stdout",
     "output_type": "stream",
     "text": [
      "819347\r",
      "819348\r"
     ]
    },
    {
     "name": "stderr",
     "output_type": "stream",
     "text": [
      "\r",
      "  8%|▊         | 72/880 [1:49:23<19:28:38, 86.78s/it]"
     ]
    },
    {
     "name": "stdout",
     "output_type": "stream",
     "text": [
      "819369\r"
     ]
    },
    {
     "name": "stderr",
     "output_type": "stream",
     "text": [
      "\r",
      "  8%|▊         | 73/880 [1:50:33<18:19:49, 81.77s/it]"
     ]
    },
    {
     "name": "stdout",
     "output_type": "stream",
     "text": [
      "819381\r"
     ]
    },
    {
     "name": "stderr",
     "output_type": "stream",
     "text": [
      "\r",
      "  8%|▊         | 74/880 [1:51:49<17:55:12, 80.04s/it]"
     ]
    },
    {
     "name": "stdout",
     "output_type": "stream",
     "text": [
      "819415\r"
     ]
    },
    {
     "name": "stderr",
     "output_type": "stream",
     "text": [
      "\r",
      "  9%|▊         | 75/880 [1:53:23<18:50:07, 84.23s/it]"
     ]
    },
    {
     "name": "stdout",
     "output_type": "stream",
     "text": [
      "819416\r"
     ]
    },
    {
     "name": "stderr",
     "output_type": "stream",
     "text": [
      "\r",
      "  9%|▊         | 76/880 [1:54:16<16:43:33, 74.89s/it]"
     ]
    },
    {
     "name": "stdout",
     "output_type": "stream",
     "text": [
      "819422\r"
     ]
    },
    {
     "name": "stderr",
     "output_type": "stream",
     "text": [
      "\r",
      "  9%|▉         | 77/880 [1:55:35<16:58:23, 76.09s/it]"
     ]
    },
    {
     "name": "stdout",
     "output_type": "stream",
     "text": [
      "819425\r"
     ]
    },
    {
     "name": "stderr",
     "output_type": "stream",
     "text": [
      "\r",
      "  9%|▉         | 78/880 [1:56:40<16:09:37, 72.54s/it]"
     ]
    },
    {
     "name": "stdout",
     "output_type": "stream",
     "text": [
      "819429\r"
     ]
    },
    {
     "name": "stderr",
     "output_type": "stream",
     "text": [
      "\r",
      "  9%|▉         | 79/880 [1:58:33<18:52:58, 84.87s/it]"
     ]
    },
    {
     "name": "stdout",
     "output_type": "stream",
     "text": [
      "819442\r"
     ]
    },
    {
     "name": "stderr",
     "output_type": "stream",
     "text": [
      "\r",
      "  9%|▉         | 80/880 [2:00:38<21:31:15, 96.84s/it]"
     ]
    },
    {
     "name": "stdout",
     "output_type": "stream",
     "text": [
      "819471\r"
     ]
    },
    {
     "name": "stderr",
     "output_type": "stream",
     "text": [
      "  9%|▉         | 82/880 [2:04:08<22:30:02, 101.51s/it]"
     ]
    },
    {
     "name": "stdout",
     "output_type": "stream",
     "text": [
      "819485\r"
     ]
    },
    {
     "name": "stderr",
     "output_type": "stream",
     "text": [
      "\r",
      "  9%|▉         | 83/880 [2:05:29<21:06:16, 95.33s/it] "
     ]
    },
    {
     "name": "stdout",
     "output_type": "stream",
     "text": [
      "819503\r"
     ]
    },
    {
     "name": "stderr",
     "output_type": "stream",
     "text": [
      "\r",
      " 10%|▉         | 84/880 [2:07:03<20:57:10, 94.76s/it]"
     ]
    },
    {
     "name": "stdout",
     "output_type": "stream",
     "text": [
      "819512\r"
     ]
    },
    {
     "name": "stderr",
     "output_type": "stream",
     "text": [
      "\r",
      " 10%|▉         | 85/880 [2:08:37<20:52:59, 94.57s/it]"
     ]
    },
    {
     "name": "stdout",
     "output_type": "stream",
     "text": [
      "819522\r"
     ]
    },
    {
     "name": "stderr",
     "output_type": "stream",
     "text": [
      "\r",
      " 10%|▉         | 86/880 [2:10:18<21:17:21, 96.53s/it]"
     ]
    },
    {
     "name": "stdout",
     "output_type": "stream",
     "text": [
      "819564\r"
     ]
    },
    {
     "name": "stderr",
     "output_type": "stream",
     "text": [
      "\r",
      " 10%|▉         | 87/880 [2:11:52<21:08:34, 95.98s/it]"
     ]
    },
    {
     "name": "stdout",
     "output_type": "stream",
     "text": [
      "819583\r"
     ]
    },
    {
     "name": "stderr",
     "output_type": "stream",
     "text": [
      "\r",
      " 10%|█         | 88/880 [2:13:28<21:04:56, 95.83s/it]"
     ]
    },
    {
     "name": "stdout",
     "output_type": "stream",
     "text": [
      "819591\r"
     ]
    },
    {
     "name": "stderr",
     "output_type": "stream",
     "text": [
      "\r",
      " 10%|█         | 89/880 [2:14:47<19:57:05, 90.80s/it]"
     ]
    },
    {
     "name": "stdout",
     "output_type": "stream",
     "text": [
      "819615\r"
     ]
    },
    {
     "name": "stderr",
     "output_type": "stream",
     "text": [
      "\r",
      " 10%|█         | 90/880 [2:16:54<22:18:23, 101.65s/it]"
     ]
    },
    {
     "name": "stdout",
     "output_type": "stream",
     "text": [
      "819632\r"
     ]
    },
    {
     "name": "stderr",
     "output_type": "stream",
     "text": [
      "\r",
      " 10%|█         | 91/880 [2:18:37<22:23:11, 102.14s/it]"
     ]
    },
    {
     "name": "stdout",
     "output_type": "stream",
     "text": [
      "819677\r"
     ]
    },
    {
     "name": "stderr",
     "output_type": "stream",
     "text": [
      "\r",
      " 10%|█         | 92/880 [2:20:57<24:47:46, 113.28s/it]"
     ]
    },
    {
     "name": "stdout",
     "output_type": "stream",
     "text": [
      "819683\r"
     ]
    },
    {
     "name": "stderr",
     "output_type": "stream",
     "text": [
      "\r",
      " 11%|█         | 93/880 [2:22:00<21:28:43, 98.25s/it] "
     ]
    },
    {
     "name": "stdout",
     "output_type": "stream",
     "text": [
      "819699\r"
     ]
    },
    {
     "name": "stderr",
     "output_type": "stream",
     "text": [
      "\r",
      " 11%|█         | 94/880 [2:23:39<21:31:21, 98.58s/it]"
     ]
    },
    {
     "name": "stdout",
     "output_type": "stream",
     "text": [
      "819709\r"
     ]
    },
    {
     "name": "stderr",
     "output_type": "stream",
     "text": [
      "\r",
      " 11%|█         | 95/880 [2:25:05<20:38:21, 94.65s/it]"
     ]
    },
    {
     "name": "stdout",
     "output_type": "stream",
     "text": [
      "819728\r"
     ]
    },
    {
     "name": "stderr",
     "output_type": "stream",
     "text": [
      "\r",
      " 11%|█         | 96/880 [2:27:19<23:10:46, 106.44s/it]"
     ]
    },
    {
     "name": "stdout",
     "output_type": "stream",
     "text": [
      "819764\r"
     ]
    },
    {
     "name": "stderr",
     "output_type": "stream",
     "text": [
      "\r",
      " 11%|█         | 97/880 [2:29:29<24:42:56, 113.63s/it]"
     ]
    },
    {
     "name": "stdout",
     "output_type": "stream",
     "text": [
      "819797\r"
     ]
    },
    {
     "name": "stderr",
     "output_type": "stream",
     "text": [
      "\r",
      " 11%|█         | 98/880 [2:31:14<24:07:15, 111.04s/it]"
     ]
    },
    {
     "name": "stdout",
     "output_type": "stream",
     "text": [
      "819807\r"
     ]
    },
    {
     "name": "stderr",
     "output_type": "stream",
     "text": [
      "\r",
      " 11%|█▏        | 99/880 [2:32:33<22:00:47, 101.47s/it]"
     ]
    },
    {
     "name": "stdout",
     "output_type": "stream",
     "text": [
      "819818\r"
     ]
    },
    {
     "name": "stderr",
     "output_type": "stream",
     "text": [
      "\r",
      " 11%|█▏        | 100/880 [2:34:17<22:08:33, 102.20s/it]"
     ]
    },
    {
     "name": "stdout",
     "output_type": "stream",
     "text": [
      "819833\r"
     ]
    },
    {
     "name": "stderr",
     "output_type": "stream",
     "text": [
      "\r",
      " 11%|█▏        | 101/880 [2:35:44<21:09:36, 97.79s/it] "
     ]
    },
    {
     "name": "stdout",
     "output_type": "stream",
     "text": [
      "819850\r"
     ]
    },
    {
     "name": "stderr",
     "output_type": "stream",
     "text": [
      "\r",
      " 12%|█▏        | 102/880 [2:37:16<20:41:47, 95.77s/it]"
     ]
    },
    {
     "name": "stdout",
     "output_type": "stream",
     "text": [
      "819851\r"
     ]
    },
    {
     "name": "stderr",
     "output_type": "stream",
     "text": [
      "\r",
      " 12%|█▏        | 103/880 [2:38:22<18:46:02, 86.95s/it]"
     ]
    },
    {
     "name": "stdout",
     "output_type": "stream",
     "text": [
      "819856\r"
     ]
    },
    {
     "name": "stderr",
     "output_type": "stream",
     "text": [
      "\r",
      " 12%|█▏        | 104/880 [2:39:45<18:30:48, 85.89s/it]"
     ]
    },
    {
     "name": "stdout",
     "output_type": "stream",
     "text": [
      "819868\r"
     ]
    },
    {
     "name": "stderr",
     "output_type": "stream",
     "text": [
      "\r",
      " 12%|█▏        | 105/880 [2:41:40<20:22:56, 94.68s/it]"
     ]
    },
    {
     "name": "stdout",
     "output_type": "stream",
     "text": [
      "819875\r"
     ]
    },
    {
     "name": "stderr",
     "output_type": "stream",
     "text": [
      "\r",
      " 12%|█▏        | 106/880 [2:43:23<20:53:31, 97.17s/it]"
     ]
    },
    {
     "name": "stdout",
     "output_type": "stream",
     "text": [
      "819880\r"
     ]
    },
    {
     "name": "stderr",
     "output_type": "stream",
     "text": [
      "\r",
      " 12%|█▏        | 107/880 [2:44:50<20:10:37, 93.97s/it]"
     ]
    },
    {
     "name": "stdout",
     "output_type": "stream",
     "text": [
      "819889\r"
     ]
    },
    {
     "name": "stderr",
     "output_type": "stream",
     "text": [
      " 12%|█▎        | 110/880 [2:48:22<16:14:19, 75.92s/it]"
     ]
    },
    {
     "name": "stdout",
     "output_type": "stream",
     "text": [
      "819898\r"
     ]
    },
    {
     "name": "stderr",
     "output_type": "stream",
     "text": [
      "\r",
      " 13%|█▎        | 111/880 [2:49:33<15:53:55, 74.43s/it]"
     ]
    },
    {
     "name": "stdout",
     "output_type": "stream",
     "text": [
      "819906\r"
     ]
    },
    {
     "name": "stderr",
     "output_type": "stream",
     "text": [
      "\r",
      " 13%|█▎        | 112/880 [2:50:27<14:36:56, 68.51s/it]"
     ]
    },
    {
     "name": "stdout",
     "output_type": "stream",
     "text": [
      "819923\r"
     ]
    },
    {
     "name": "stderr",
     "output_type": "stream",
     "text": [
      "\r",
      " 13%|█▎        | 113/880 [2:51:45<15:10:58, 71.26s/it]"
     ]
    },
    {
     "name": "stdout",
     "output_type": "stream",
     "text": [
      "819928\r"
     ]
    },
    {
     "name": "stderr",
     "output_type": "stream",
     "text": [
      "\r",
      " 13%|█▎        | 114/880 [2:53:00<15:23:34, 72.34s/it]"
     ]
    },
    {
     "name": "stdout",
     "output_type": "stream",
     "text": [
      "819933\r"
     ]
    },
    {
     "name": "stderr",
     "output_type": "stream",
     "text": [
      "\r",
      " 13%|█▎        | 115/880 [2:54:50<17:44:58, 83.53s/it]"
     ]
    },
    {
     "name": "stdout",
     "output_type": "stream",
     "text": [
      "819947\r"
     ]
    },
    {
     "name": "stderr",
     "output_type": "stream",
     "text": [
      "\r",
      " 13%|█▎        | 116/880 [2:56:12<17:37:58, 83.09s/it]"
     ]
    },
    {
     "name": "stdout",
     "output_type": "stream",
     "text": [
      "819958\r"
     ]
    },
    {
     "name": "stderr",
     "output_type": "stream",
     "text": [
      "\r",
      " 13%|█▎        | 117/880 [2:57:40<17:56:17, 84.64s/it]"
     ]
    },
    {
     "name": "stdout",
     "output_type": "stream",
     "text": [
      "819988\r"
     ]
    },
    {
     "name": "stderr",
     "output_type": "stream",
     "text": [
      "\r",
      " 13%|█▎        | 118/880 [2:59:47<20:37:40, 97.45s/it]"
     ]
    },
    {
     "name": "stdout",
     "output_type": "stream",
     "text": [
      "820001\r"
     ]
    },
    {
     "name": "stderr",
     "output_type": "stream",
     "text": [
      "\r",
      " 14%|█▎        | 119/880 [3:01:13<19:50:55, 93.90s/it]"
     ]
    },
    {
     "name": "stdout",
     "output_type": "stream",
     "text": [
      "820009\r"
     ]
    },
    {
     "name": "stderr",
     "output_type": "stream",
     "text": [
      "\r",
      " 14%|█▎        | 120/880 [3:02:36<19:09:45, 90.77s/it]"
     ]
    },
    {
     "name": "stdout",
     "output_type": "stream",
     "text": [
      "820032\r"
     ]
    },
    {
     "name": "stderr",
     "output_type": "stream",
     "text": [
      "\r",
      " 14%|█▍        | 121/880 [3:04:27<20:23:15, 96.70s/it]"
     ]
    },
    {
     "name": "stdout",
     "output_type": "stream",
     "text": [
      "820041\r"
     ]
    },
    {
     "name": "stderr",
     "output_type": "stream",
     "text": [
      "\r",
      " 14%|█▍        | 122/880 [3:05:47<19:18:04, 91.67s/it]"
     ]
    },
    {
     "name": "stdout",
     "output_type": "stream",
     "text": [
      "820092\r"
     ]
    },
    {
     "name": "stderr",
     "output_type": "stream",
     "text": [
      "\r",
      " 14%|█▍        | 123/880 [3:07:32<20:09:23, 95.86s/it]"
     ]
    },
    {
     "name": "stdout",
     "output_type": "stream",
     "text": [
      "820108\r"
     ]
    },
    {
     "name": "stderr",
     "output_type": "stream",
     "text": [
      "\r",
      " 14%|█▍        | 124/880 [3:08:54<19:13:12, 91.52s/it]"
     ]
    },
    {
     "name": "stdout",
     "output_type": "stream",
     "text": [
      "820129\r"
     ]
    },
    {
     "name": "stderr",
     "output_type": "stream",
     "text": [
      "\r",
      " 14%|█▍        | 125/880 [3:10:34<19:44:03, 94.10s/it]"
     ]
    },
    {
     "name": "stdout",
     "output_type": "stream",
     "text": [
      "820134\r"
     ]
    },
    {
     "name": "stderr",
     "output_type": "stream",
     "text": [
      "\r",
      " 14%|█▍        | 126/880 [3:11:47<18:23:46, 87.83s/it]"
     ]
    },
    {
     "name": "stdout",
     "output_type": "stream",
     "text": [
      "820138\r"
     ]
    },
    {
     "name": "stderr",
     "output_type": "stream",
     "text": [
      "\r",
      " 14%|█▍        | 127/880 [3:13:08<17:55:35, 85.70s/it]"
     ]
    },
    {
     "name": "stdout",
     "output_type": "stream",
     "text": [
      "820144\r"
     ]
    },
    {
     "name": "stderr",
     "output_type": "stream",
     "text": [
      "\r",
      " 15%|█▍        | 128/880 [3:14:25<17:22:31, 83.18s/it]"
     ]
    },
    {
     "name": "stdout",
     "output_type": "stream",
     "text": [
      "820152\r"
     ]
    },
    {
     "name": "stderr",
     "output_type": "stream",
     "text": [
      "\r",
      " 15%|█▍        | 129/880 [3:16:06<18:27:51, 88.51s/it]"
     ]
    },
    {
     "name": "stdout",
     "output_type": "stream",
     "text": [
      "820155\r"
     ]
    },
    {
     "name": "stderr",
     "output_type": "stream",
     "text": [
      "\r",
      " 15%|█▍        | 130/880 [3:17:13<17:06:14, 82.10s/it]"
     ]
    },
    {
     "name": "stdout",
     "output_type": "stream",
     "text": [
      "820161\r"
     ]
    },
    {
     "name": "stderr",
     "output_type": "stream",
     "text": [
      "\r",
      " 15%|█▍        | 131/880 [3:18:22<16:14:59, 78.10s/it]"
     ]
    },
    {
     "name": "stdout",
     "output_type": "stream",
     "text": [
      "820167\r"
     ]
    },
    {
     "name": "stderr",
     "output_type": "stream",
     "text": [
      "\r",
      " 15%|█▌        | 132/880 [3:19:33<15:47:49, 76.03s/it]"
     ]
    },
    {
     "name": "stdout",
     "output_type": "stream",
     "text": [
      "820184\r"
     ]
    },
    {
     "name": "stderr",
     "output_type": "stream",
     "text": [
      "\r",
      " 15%|█▌        | 133/880 [3:20:56<16:12:57, 78.15s/it]"
     ]
    },
    {
     "name": "stdout",
     "output_type": "stream",
     "text": [
      "820187\r"
     ]
    },
    {
     "name": "stderr",
     "output_type": "stream",
     "text": [
      "\r",
      " 15%|█▌        | 134/880 [3:22:28<17:00:27, 82.07s/it]"
     ]
    },
    {
     "name": "stdout",
     "output_type": "stream",
     "text": [
      "820188\r"
     ]
    },
    {
     "name": "stderr",
     "output_type": "stream",
     "text": [
      "\r",
      " 15%|█▌        | 135/880 [3:23:25<15:25:38, 74.55s/it]"
     ]
    },
    {
     "name": "stdout",
     "output_type": "stream",
     "text": [
      "820201\r"
     ]
    },
    {
     "name": "stderr",
     "output_type": "stream",
     "text": [
      "\r",
      " 15%|█▌        | 136/880 [3:24:55<16:23:51, 79.34s/it]"
     ]
    },
    {
     "name": "stdout",
     "output_type": "stream",
     "text": [
      "820207\r"
     ]
    },
    {
     "name": "stderr",
     "output_type": "stream",
     "text": [
      "\r",
      " 16%|█▌        | 137/880 [3:25:56<15:13:07, 73.74s/it]"
     ]
    },
    {
     "name": "stdout",
     "output_type": "stream",
     "text": [
      "820213\r"
     ]
    },
    {
     "name": "stderr",
     "output_type": "stream",
     "text": [
      "\r",
      " 16%|█▌        | 138/880 [3:27:17<15:38:51, 75.92s/it]"
     ]
    },
    {
     "name": "stdout",
     "output_type": "stream",
     "text": [
      "820224\r"
     ]
    },
    {
     "name": "stderr",
     "output_type": "stream",
     "text": [
      "\r",
      " 16%|█▌        | 139/880 [3:28:25<15:09:53, 73.68s/it]"
     ]
    },
    {
     "name": "stdout",
     "output_type": "stream",
     "text": [
      "820232\r"
     ]
    },
    {
     "name": "stderr",
     "output_type": "stream",
     "text": [
      "\r",
      " 16%|█▌        | 140/880 [3:29:41<15:18:06, 74.44s/it]"
     ]
    },
    {
     "name": "stdout",
     "output_type": "stream",
     "text": [
      "820240\r"
     ]
    },
    {
     "name": "stderr",
     "output_type": "stream",
     "text": [
      "\r",
      " 16%|█▌        | 141/880 [3:30:57<15:22:41, 74.91s/it]"
     ]
    },
    {
     "name": "stdout",
     "output_type": "stream",
     "text": [
      "820247\r"
     ]
    },
    {
     "name": "stderr",
     "output_type": "stream",
     "text": [
      "\r",
      " 16%|█▌        | 142/880 [3:32:11<15:16:29, 74.51s/it]"
     ]
    },
    {
     "name": "stdout",
     "output_type": "stream",
     "text": [
      "820248\r",
      "820249\r"
     ]
    },
    {
     "name": "stderr",
     "output_type": "stream",
     "text": [
      "\r",
      " 16%|█▋        | 143/880 [3:33:21<14:57:48, 73.09s/it]"
     ]
    },
    {
     "name": "stdout",
     "output_type": "stream",
     "text": [
      "820259\r"
     ]
    },
    {
     "name": "stderr",
     "output_type": "stream",
     "text": [
      "\r",
      " 16%|█▋        | 144/880 [3:34:44<15:33:22, 76.09s/it]"
     ]
    },
    {
     "name": "stdout",
     "output_type": "stream",
     "text": [
      "820262\r"
     ]
    },
    {
     "name": "stderr",
     "output_type": "stream",
     "text": [
      "\r",
      " 16%|█▋        | 145/880 [3:35:58<15:22:56, 75.34s/it]"
     ]
    },
    {
     "name": "stdout",
     "output_type": "stream",
     "text": [
      "820263\r"
     ]
    },
    {
     "name": "stderr",
     "output_type": "stream",
     "text": [
      "\r",
      " 17%|█▋        | 146/880 [3:37:04<14:48:45, 72.65s/it]"
     ]
    },
    {
     "name": "stdout",
     "output_type": "stream",
     "text": [
      "820277\r"
     ]
    },
    {
     "name": "stderr",
     "output_type": "stream",
     "text": [
      "\r",
      " 17%|█▋        | 147/880 [3:38:19<14:55:42, 73.32s/it]"
     ]
    },
    {
     "name": "stdout",
     "output_type": "stream",
     "text": [
      "820280\r"
     ]
    },
    {
     "name": "stderr",
     "output_type": "stream",
     "text": [
      "\r",
      " 17%|█▋        | 148/880 [3:39:24<14:25:35, 70.95s/it]"
     ]
    },
    {
     "name": "stdout",
     "output_type": "stream",
     "text": [
      "820285\r"
     ]
    },
    {
     "name": "stderr",
     "output_type": "stream",
     "text": [
      "\r",
      " 17%|█▋        | 149/880 [3:40:22<13:35:14, 66.91s/it]"
     ]
    },
    {
     "name": "stdout",
     "output_type": "stream",
     "text": [
      "820290\r"
     ]
    },
    {
     "name": "stderr",
     "output_type": "stream",
     "text": [
      "\r",
      " 17%|█▋        | 150/880 [3:41:37<14:03:42, 69.35s/it]"
     ]
    },
    {
     "name": "stdout",
     "output_type": "stream",
     "text": [
      "820304\r"
     ]
    },
    {
     "name": "stderr",
     "output_type": "stream",
     "text": [
      "\r",
      " 17%|█▋        | 151/880 [3:43:05<15:09:51, 74.89s/it]"
     ]
    },
    {
     "name": "stdout",
     "output_type": "stream",
     "text": [
      "820317\r"
     ]
    },
    {
     "name": "stderr",
     "output_type": "stream",
     "text": [
      "\r",
      " 17%|█▋        | 152/880 [3:44:27<15:37:15, 77.25s/it]"
     ]
    },
    {
     "name": "stdout",
     "output_type": "stream",
     "text": [
      "820326\r"
     ]
    },
    {
     "name": "stderr",
     "output_type": "stream",
     "text": [
      "\r",
      " 17%|█▋        | 153/880 [3:45:47<15:44:20, 77.94s/it]"
     ]
    },
    {
     "name": "stdout",
     "output_type": "stream",
     "text": [
      "820338\r"
     ]
    },
    {
     "name": "stderr",
     "output_type": "stream",
     "text": [
      "\r",
      " 18%|█▊        | 154/880 [3:47:07<15:50:32, 78.56s/it]"
     ]
    },
    {
     "name": "stdout",
     "output_type": "stream",
     "text": [
      "820363\r"
     ]
    },
    {
     "name": "stderr",
     "output_type": "stream",
     "text": [
      "\r",
      " 18%|█▊        | 155/880 [3:48:37<16:31:52, 82.09s/it]"
     ]
    },
    {
     "name": "stdout",
     "output_type": "stream",
     "text": [
      "820383\r"
     ]
    },
    {
     "name": "stderr",
     "output_type": "stream",
     "text": [
      "\r",
      " 18%|█▊        | 156/880 [3:50:06<16:53:49, 84.02s/it]"
     ]
    },
    {
     "name": "stdout",
     "output_type": "stream",
     "text": [
      "820394\r"
     ]
    },
    {
     "name": "stderr",
     "output_type": "stream",
     "text": [
      "\r",
      " 18%|█▊        | 157/880 [3:51:30<16:52:49, 84.05s/it]"
     ]
    },
    {
     "name": "stdout",
     "output_type": "stream",
     "text": [
      "820401\r"
     ]
    },
    {
     "name": "stderr",
     "output_type": "stream",
     "text": [
      "\r",
      " 18%|█▊        | 158/880 [3:52:57<17:03:23, 85.05s/it]"
     ]
    },
    {
     "name": "stdout",
     "output_type": "stream",
     "text": [
      "820412\r"
     ]
    },
    {
     "name": "stderr",
     "output_type": "stream",
     "text": [
      "\r",
      " 18%|█▊        | 159/880 [3:54:50<18:42:02, 93.37s/it]"
     ]
    },
    {
     "name": "stdout",
     "output_type": "stream",
     "text": [
      "820420\r"
     ]
    },
    {
     "name": "stderr",
     "output_type": "stream",
     "text": [
      "\r",
      " 18%|█▊        | 160/880 [3:56:04<17:32:30, 87.71s/it]"
     ]
    },
    {
     "name": "stdout",
     "output_type": "stream",
     "text": [
      "820424\r"
     ]
    },
    {
     "name": "stderr",
     "output_type": "stream",
     "text": [
      "\r",
      " 18%|█▊        | 161/880 [3:57:06<15:58:36, 80.00s/it]"
     ]
    },
    {
     "name": "stdout",
     "output_type": "stream",
     "text": [
      "820425\r"
     ]
    },
    {
     "name": "stderr",
     "output_type": "stream",
     "text": [
      "\r",
      " 18%|█▊        | 162/880 [3:58:07<14:46:45, 74.10s/it]"
     ]
    },
    {
     "name": "stdout",
     "output_type": "stream",
     "text": [
      "820428\r"
     ]
    },
    {
     "name": "stderr",
     "output_type": "stream",
     "text": [
      "\r",
      " 19%|█▊        | 163/880 [3:59:05<13:49:42, 69.43s/it]"
     ]
    },
    {
     "name": "stdout",
     "output_type": "stream",
     "text": [
      "820433\r"
     ]
    },
    {
     "name": "stderr",
     "output_type": "stream",
     "text": [
      "\r",
      " 19%|█▊        | 164/880 [4:00:07<13:22:01, 67.21s/it]"
     ]
    },
    {
     "name": "stdout",
     "output_type": "stream",
     "text": [
      "820448\r"
     ]
    },
    {
     "name": "stderr",
     "output_type": "stream",
     "text": [
      "\r",
      " 19%|█▉        | 165/880 [4:01:34<14:31:43, 73.15s/it]"
     ]
    },
    {
     "name": "stdout",
     "output_type": "stream",
     "text": [
      "820453\r"
     ]
    },
    {
     "name": "stderr",
     "output_type": "stream",
     "text": [
      "\r",
      " 19%|█▉        | 166/880 [4:02:50<14:39:08, 73.88s/it]"
     ]
    },
    {
     "name": "stdout",
     "output_type": "stream",
     "text": [
      "820468\r"
     ]
    },
    {
     "name": "stderr",
     "output_type": "stream",
     "text": [
      "\r",
      " 19%|█▉        | 167/880 [4:05:13<18:44:45, 94.65s/it]"
     ]
    },
    {
     "name": "stdout",
     "output_type": "stream",
     "text": [
      "820479\r"
     ]
    },
    {
     "name": "stderr",
     "output_type": "stream",
     "text": [
      "\r",
      " 19%|█▉        | 168/880 [4:07:13<20:11:42, 102.11s/it]"
     ]
    },
    {
     "name": "stdout",
     "output_type": "stream",
     "text": [
      "820483\r"
     ]
    },
    {
     "name": "stderr",
     "output_type": "stream",
     "text": [
      "\r",
      " 19%|█▉        | 169/880 [4:08:07<17:21:37, 87.90s/it] "
     ]
    },
    {
     "name": "stdout",
     "output_type": "stream",
     "text": [
      "820487\r"
     ]
    },
    {
     "name": "stderr",
     "output_type": "stream",
     "text": [
      "\r",
      " 19%|█▉        | 170/880 [4:09:11<15:54:01, 80.62s/it]"
     ]
    },
    {
     "name": "stdout",
     "output_type": "stream",
     "text": [
      "820501\r"
     ]
    },
    {
     "name": "stderr",
     "output_type": "stream",
     "text": [
      "\r",
      " 19%|█▉        | 171/880 [4:10:53<17:08:44, 87.06s/it]"
     ]
    },
    {
     "name": "stdout",
     "output_type": "stream",
     "text": [
      "820504\r"
     ]
    },
    {
     "name": "stderr",
     "output_type": "stream",
     "text": [
      "\r",
      " 20%|█▉        | 172/880 [4:12:14<16:44:32, 85.13s/it]"
     ]
    },
    {
     "name": "stdout",
     "output_type": "stream",
     "text": [
      "820514\r"
     ]
    },
    {
     "name": "stderr",
     "output_type": "stream",
     "text": [
      "\r",
      " 20%|█▉        | 173/880 [4:13:38<16:40:59, 84.95s/it]"
     ]
    },
    {
     "name": "stdout",
     "output_type": "stream",
     "text": [
      "820611\r"
     ]
    },
    {
     "name": "stderr",
     "output_type": "stream",
     "text": [
      "\r",
      " 20%|█▉        | 174/880 [4:16:05<20:16:34, 103.39s/it]"
     ]
    },
    {
     "name": "stdout",
     "output_type": "stream",
     "text": [
      "820646\r"
     ]
    },
    {
     "name": "stderr",
     "output_type": "stream",
     "text": [
      "\r",
      " 20%|█▉        | 175/880 [4:17:24<18:49:59, 96.17s/it] "
     ]
    },
    {
     "name": "stdout",
     "output_type": "stream",
     "text": [
      "820770\r"
     ]
    },
    {
     "name": "stderr",
     "output_type": "stream",
     "text": [
      "\r",
      " 20%|██        | 176/880 [4:20:05<22:35:18, 115.51s/it]"
     ]
    },
    {
     "name": "stdout",
     "output_type": "stream",
     "text": [
      "820801\r"
     ]
    },
    {
     "name": "stderr",
     "output_type": "stream",
     "text": [
      "\r",
      " 20%|██        | 177/880 [4:21:23<20:23:39, 104.44s/it]"
     ]
    },
    {
     "name": "stdout",
     "output_type": "stream",
     "text": [
      "820864\r"
     ]
    },
    {
     "name": "stderr",
     "output_type": "stream",
     "text": [
      "\r",
      " 20%|██        | 178/880 [4:23:21<21:07:57, 108.37s/it]"
     ]
    },
    {
     "name": "stdout",
     "output_type": "stream",
     "text": [
      "820868\r"
     ]
    },
    {
     "name": "stderr",
     "output_type": "stream",
     "text": [
      "\r",
      " 20%|██        | 179/880 [4:24:36<19:09:15, 98.37s/it] "
     ]
    },
    {
     "name": "stdout",
     "output_type": "stream",
     "text": [
      "820915\r"
     ]
    },
    {
     "name": "stderr",
     "output_type": "stream",
     "text": [
      "\r",
      " 20%|██        | 180/880 [4:26:29<20:00:18, 102.88s/it]"
     ]
    },
    {
     "name": "stdout",
     "output_type": "stream",
     "text": [
      "820964\r"
     ]
    },
    {
     "name": "stderr",
     "output_type": "stream",
     "text": [
      "\r",
      " 21%|██        | 181/880 [4:28:12<19:57:29, 102.79s/it]"
     ]
    },
    {
     "name": "stdout",
     "output_type": "stream",
     "text": [
      "820973\r"
     ]
    },
    {
     "name": "stderr",
     "output_type": "stream",
     "text": [
      "\r",
      " 21%|██        | 182/880 [4:29:24<18:08:39, 93.58s/it] "
     ]
    },
    {
     "name": "stdout",
     "output_type": "stream",
     "text": [
      "820974\r"
     ]
    },
    {
     "name": "stderr",
     "output_type": "stream",
     "text": [
      "\r",
      " 21%|██        | 183/880 [4:30:38<16:59:54, 87.80s/it]"
     ]
    },
    {
     "name": "stdout",
     "output_type": "stream",
     "text": [
      "820981\r"
     ]
    },
    {
     "name": "stderr",
     "output_type": "stream",
     "text": [
      "\r",
      " 21%|██        | 184/880 [4:31:46<15:47:58, 81.72s/it]"
     ]
    },
    {
     "name": "stdout",
     "output_type": "stream",
     "text": [
      "820990\r"
     ]
    },
    {
     "name": "stderr",
     "output_type": "stream",
     "text": [
      "\r",
      " 21%|██        | 185/880 [4:32:48<14:38:24, 75.83s/it]"
     ]
    },
    {
     "name": "stdout",
     "output_type": "stream",
     "text": [
      "820992\r"
     ]
    },
    {
     "name": "stderr",
     "output_type": "stream",
     "text": [
      "\r",
      " 21%|██        | 186/880 [4:33:53<13:59:54, 72.61s/it]"
     ]
    },
    {
     "name": "stdout",
     "output_type": "stream",
     "text": [
      "821005\r"
     ]
    },
    {
     "name": "stderr",
     "output_type": "stream",
     "text": [
      "\r",
      " 21%|██▏       | 187/880 [4:35:08<14:07:57, 73.42s/it]"
     ]
    },
    {
     "name": "stdout",
     "output_type": "stream",
     "text": [
      "821057\r"
     ]
    },
    {
     "name": "stderr",
     "output_type": "stream",
     "text": [
      "\r",
      " 21%|██▏       | 188/880 [4:37:05<16:36:07, 86.37s/it]"
     ]
    },
    {
     "name": "stdout",
     "output_type": "stream",
     "text": [
      "821064\r"
     ]
    },
    {
     "name": "stderr",
     "output_type": "stream",
     "text": [
      "\r",
      " 21%|██▏       | 189/880 [4:38:11<15:25:40, 80.38s/it]"
     ]
    },
    {
     "name": "stdout",
     "output_type": "stream",
     "text": [
      "821069\r"
     ]
    },
    {
     "name": "stderr",
     "output_type": "stream",
     "text": [
      "\r",
      " 22%|██▏       | 190/880 [4:39:07<13:58:30, 72.91s/it]"
     ]
    },
    {
     "name": "stdout",
     "output_type": "stream",
     "text": [
      "821081\r"
     ]
    },
    {
     "name": "stderr",
     "output_type": "stream",
     "text": [
      "\r",
      " 22%|██▏       | 191/880 [4:40:21<14:00:46, 73.22s/it]"
     ]
    },
    {
     "name": "stdout",
     "output_type": "stream",
     "text": [
      "821114\r"
     ]
    },
    {
     "name": "stderr",
     "output_type": "stream",
     "text": [
      "\r",
      " 22%|██▏       | 192/880 [4:41:42<14:27:23, 75.64s/it]"
     ]
    },
    {
     "name": "stdout",
     "output_type": "stream",
     "text": [
      "821162\r"
     ]
    },
    {
     "name": "stderr",
     "output_type": "stream",
     "text": [
      "\r",
      " 22%|██▏       | 193/880 [4:43:20<15:41:51, 82.26s/it]"
     ]
    },
    {
     "name": "stdout",
     "output_type": "stream",
     "text": [
      "821187\r"
     ]
    },
    {
     "name": "stderr",
     "output_type": "stream",
     "text": [
      "\r",
      " 22%|██▏       | 194/880 [4:44:51<16:12:39, 85.07s/it]"
     ]
    },
    {
     "name": "stdout",
     "output_type": "stream",
     "text": [
      "821193\r"
     ]
    },
    {
     "name": "stderr",
     "output_type": "stream",
     "text": [
      "\r",
      " 22%|██▏       | 195/880 [4:46:11<15:52:09, 83.40s/it]"
     ]
    },
    {
     "name": "stdout",
     "output_type": "stream",
     "text": [
      "821289\r"
     ]
    },
    {
     "name": "stderr",
     "output_type": "stream",
     "text": [
      "\r",
      " 22%|██▏       | 196/880 [4:48:28<18:54:19, 99.50s/it]"
     ]
    },
    {
     "name": "stdout",
     "output_type": "stream",
     "text": [
      "821337\r"
     ]
    },
    {
     "name": "stderr",
     "output_type": "stream",
     "text": [
      "\r",
      " 22%|██▏       | 197/880 [4:50:10<19:01:33, 100.28s/it]"
     ]
    },
    {
     "name": "stdout",
     "output_type": "stream",
     "text": [
      "821393\r"
     ]
    },
    {
     "name": "stderr",
     "output_type": "stream",
     "text": [
      "\r",
      " 22%|██▎       | 198/880 [4:52:08<19:59:04, 105.49s/it]"
     ]
    },
    {
     "name": "stdout",
     "output_type": "stream",
     "text": [
      "821424\r"
     ]
    },
    {
     "name": "stderr",
     "output_type": "stream",
     "text": [
      "\r",
      " 23%|██▎       | 199/880 [4:53:33<18:49:05, 99.48s/it] "
     ]
    },
    {
     "name": "stdout",
     "output_type": "stream",
     "text": [
      "821446\r"
     ]
    },
    {
     "name": "stderr",
     "output_type": "stream",
     "text": [
      "\r",
      " 23%|██▎       | 200/880 [4:55:19<19:09:44, 101.45s/it]"
     ]
    },
    {
     "name": "stdout",
     "output_type": "stream",
     "text": [
      "821482\r"
     ]
    },
    {
     "name": "stderr",
     "output_type": "stream",
     "text": [
      "\r",
      " 23%|██▎       | 201/880 [4:56:46<18:17:59, 97.02s/it] "
     ]
    },
    {
     "name": "stdout",
     "output_type": "stream",
     "text": [
      "821488\r"
     ]
    },
    {
     "name": "stderr",
     "output_type": "stream",
     "text": [
      "\r",
      " 23%|██▎       | 202/880 [4:57:49<16:22:24, 86.94s/it]"
     ]
    },
    {
     "name": "stdout",
     "output_type": "stream",
     "text": [
      "821517\r"
     ]
    },
    {
     "name": "stderr",
     "output_type": "stream",
     "text": [
      "\r",
      " 23%|██▎       | 203/880 [4:59:22<16:41:13, 88.73s/it]"
     ]
    },
    {
     "name": "stdout",
     "output_type": "stream",
     "text": [
      "821524\r"
     ]
    },
    {
     "name": "stderr",
     "output_type": "stream",
     "text": [
      "\r",
      " 23%|██▎       | 204/880 [5:00:36<15:50:39, 84.38s/it]"
     ]
    },
    {
     "name": "stdout",
     "output_type": "stream",
     "text": [
      "821607\r"
     ]
    },
    {
     "name": "stderr",
     "output_type": "stream",
     "text": [
      "\r",
      " 23%|██▎       | 205/880 [5:02:41<18:06:58, 96.62s/it]"
     ]
    },
    {
     "name": "stdout",
     "output_type": "stream",
     "text": [
      "821616\r"
     ]
    },
    {
     "name": "stderr",
     "output_type": "stream",
     "text": [
      "\r",
      " 23%|██▎       | 206/880 [5:03:46<16:18:40, 87.12s/it]"
     ]
    },
    {
     "name": "stdout",
     "output_type": "stream",
     "text": [
      "821626\r"
     ]
    },
    {
     "name": "stderr",
     "output_type": "stream",
     "text": [
      "\r",
      " 24%|██▎       | 207/880 [5:04:53<15:06:26, 80.81s/it]"
     ]
    },
    {
     "name": "stdout",
     "output_type": "stream",
     "text": [
      "821642\r"
     ]
    },
    {
     "name": "stderr",
     "output_type": "stream",
     "text": [
      "\r",
      " 24%|██▎       | 208/880 [5:06:12<15:00:28, 80.40s/it]"
     ]
    },
    {
     "name": "stdout",
     "output_type": "stream",
     "text": [
      "821669\r"
     ]
    },
    {
     "name": "stderr",
     "output_type": "stream",
     "text": [
      "\r",
      " 24%|██▍       | 209/880 [5:07:25<14:34:48, 78.22s/it]"
     ]
    },
    {
     "name": "stdout",
     "output_type": "stream",
     "text": [
      "821705\r"
     ]
    },
    {
     "name": "stderr",
     "output_type": "stream",
     "text": [
      "\r",
      " 24%|██▍       | 210/880 [5:09:05<15:47:28, 84.85s/it]"
     ]
    },
    {
     "name": "stdout",
     "output_type": "stream",
     "text": [
      "821758\r"
     ]
    },
    {
     "name": "stderr",
     "output_type": "stream",
     "text": [
      "\r",
      " 24%|██▍       | 211/880 [5:10:48<16:44:08, 90.06s/it]"
     ]
    },
    {
     "name": "stdout",
     "output_type": "stream",
     "text": [
      "821777\r"
     ]
    },
    {
     "name": "stderr",
     "output_type": "stream",
     "text": [
      "\r",
      " 24%|██▍       | 212/880 [5:12:05<16:00:23, 86.26s/it]"
     ]
    },
    {
     "name": "stdout",
     "output_type": "stream",
     "text": [
      "821779\r"
     ]
    },
    {
     "name": "stderr",
     "output_type": "stream",
     "text": [
      "\r",
      " 24%|██▍       | 213/880 [5:13:02<14:22:21, 77.57s/it]"
     ]
    },
    {
     "name": "stdout",
     "output_type": "stream",
     "text": [
      "821800\r"
     ]
    },
    {
     "name": "stderr",
     "output_type": "stream",
     "text": [
      "\r",
      " 24%|██▍       | 214/880 [5:14:13<13:56:51, 75.39s/it]"
     ]
    },
    {
     "name": "stdout",
     "output_type": "stream",
     "text": [
      "821804\r"
     ]
    },
    {
     "name": "stderr",
     "output_type": "stream",
     "text": [
      "\r",
      " 24%|██▍       | 215/880 [5:15:10<12:55:10, 69.94s/it]"
     ]
    },
    {
     "name": "stdout",
     "output_type": "stream",
     "text": [
      "821821\r"
     ]
    },
    {
     "name": "stderr",
     "output_type": "stream",
     "text": [
      "\r",
      " 25%|██▍       | 216/880 [5:16:30<13:28:07, 73.02s/it]"
     ]
    },
    {
     "name": "stdout",
     "output_type": "stream",
     "text": [
      "821847\r"
     ]
    },
    {
     "name": "stderr",
     "output_type": "stream",
     "text": [
      "\r",
      " 25%|██▍       | 217/880 [5:18:07<14:45:18, 80.12s/it]"
     ]
    },
    {
     "name": "stdout",
     "output_type": "stream",
     "text": [
      "821857\r"
     ]
    },
    {
     "name": "stderr",
     "output_type": "stream",
     "text": [
      "\r",
      " 25%|██▍       | 218/880 [5:19:25<14:37:16, 79.51s/it]"
     ]
    },
    {
     "name": "stdout",
     "output_type": "stream",
     "text": [
      "821875\r"
     ]
    },
    {
     "name": "stderr",
     "output_type": "stream",
     "text": [
      "\r",
      " 25%|██▍       | 219/880 [5:21:05<15:45:15, 85.80s/it]"
     ]
    },
    {
     "name": "stdout",
     "output_type": "stream",
     "text": [
      "821903\r"
     ]
    },
    {
     "name": "stderr",
     "output_type": "stream",
     "text": [
      "\r",
      " 25%|██▌       | 220/880 [5:22:28<15:32:45, 84.80s/it]"
     ]
    },
    {
     "name": "stdout",
     "output_type": "stream",
     "text": [
      "821912\r"
     ]
    },
    {
     "name": "stderr",
     "output_type": "stream",
     "text": [
      "\r",
      " 25%|██▌       | 221/880 [5:23:49<15:18:18, 83.61s/it]"
     ]
    },
    {
     "name": "stdout",
     "output_type": "stream",
     "text": [
      "821937\r"
     ]
    },
    {
     "name": "stderr",
     "output_type": "stream",
     "text": [
      "\r",
      " 25%|██▌       | 222/880 [5:25:15<15:25:32, 84.40s/it]"
     ]
    },
    {
     "name": "stdout",
     "output_type": "stream",
     "text": [
      "821972\r"
     ]
    },
    {
     "name": "stderr",
     "output_type": "stream",
     "text": [
      "\r",
      " 25%|██▌       | 223/880 [5:26:55<16:14:17, 88.98s/it]"
     ]
    },
    {
     "name": "stdout",
     "output_type": "stream",
     "text": [
      "822016\r"
     ]
    },
    {
     "name": "stderr",
     "output_type": "stream",
     "text": [
      "\r",
      " 25%|██▌       | 224/880 [5:28:32<16:41:34, 91.61s/it]"
     ]
    },
    {
     "name": "stdout",
     "output_type": "stream",
     "text": [
      "822070\r"
     ]
    },
    {
     "name": "stderr",
     "output_type": "stream",
     "text": [
      "\r",
      " 26%|██▌       | 225/880 [5:30:26<17:52:34, 98.25s/it]"
     ]
    },
    {
     "name": "stdout",
     "output_type": "stream",
     "text": [
      "822108\r"
     ]
    },
    {
     "name": "stderr",
     "output_type": "stream",
     "text": [
      "\r",
      " 26%|██▌       | 226/880 [5:31:58<17:30:49, 96.41s/it]"
     ]
    },
    {
     "name": "stdout",
     "output_type": "stream",
     "text": [
      "822125\r"
     ]
    },
    {
     "name": "stderr",
     "output_type": "stream",
     "text": [
      "\r",
      " 26%|██▌       | 227/880 [5:33:08<16:02:59, 88.48s/it]"
     ]
    },
    {
     "name": "stdout",
     "output_type": "stream",
     "text": [
      "822147\r"
     ]
    },
    {
     "name": "stderr",
     "output_type": "stream",
     "text": [
      "\r",
      " 26%|██▌       | 228/880 [5:34:36<15:59:51, 88.33s/it]"
     ]
    },
    {
     "name": "stdout",
     "output_type": "stream",
     "text": [
      "822161\r"
     ]
    },
    {
     "name": "stderr",
     "output_type": "stream",
     "text": [
      "\r",
      " 26%|██▌       | 229/880 [5:36:02<15:51:35, 87.70s/it]"
     ]
    },
    {
     "name": "stdout",
     "output_type": "stream",
     "text": [
      "822199\r"
     ]
    },
    {
     "name": "stderr",
     "output_type": "stream",
     "text": [
      "\r",
      " 26%|██▌       | 230/880 [5:37:57<17:18:08, 95.83s/it]"
     ]
    },
    {
     "name": "stdout",
     "output_type": "stream",
     "text": [
      "822214\r"
     ]
    },
    {
     "name": "stderr",
     "output_type": "stream",
     "text": [
      "\r",
      " 26%|██▋       | 231/880 [5:39:37<17:29:10, 97.00s/it]"
     ]
    },
    {
     "name": "stdout",
     "output_type": "stream",
     "text": [
      "822250\r"
     ]
    },
    {
     "name": "stderr",
     "output_type": "stream",
     "text": [
      "\r",
      " 26%|██▋       | 232/880 [5:41:13<17:25:55, 96.84s/it]"
     ]
    },
    {
     "name": "stdout",
     "output_type": "stream",
     "text": [
      "822266\r"
     ]
    },
    {
     "name": "stderr",
     "output_type": "stream",
     "text": [
      "\r",
      " 26%|██▋       | 233/880 [5:43:35<19:50:43, 110.42s/it]"
     ]
    },
    {
     "name": "stdout",
     "output_type": "stream",
     "text": [
      "822289\r"
     ]
    },
    {
     "name": "stderr",
     "output_type": "stream",
     "text": [
      "\r",
      " 27%|██▋       | 234/880 [5:45:01<18:27:36, 102.87s/it]"
     ]
    },
    {
     "name": "stdout",
     "output_type": "stream",
     "text": [
      "822319\r"
     ]
    },
    {
     "name": "stderr",
     "output_type": "stream",
     "text": [
      "\r",
      " 27%|██▋       | 235/880 [5:46:31<17:45:12, 99.09s/it] "
     ]
    },
    {
     "name": "stdout",
     "output_type": "stream",
     "text": [
      "822329\r"
     ]
    },
    {
     "name": "stderr",
     "output_type": "stream",
     "text": [
      "\r",
      " 27%|██▋       | 236/880 [5:51:00<26:50:10, 150.02s/it]"
     ]
    },
    {
     "name": "stdout",
     "output_type": "stream",
     "text": [
      "822347\r"
     ]
    },
    {
     "name": "stderr",
     "output_type": "stream",
     "text": [
      "\r",
      " 27%|██▋       | 237/880 [5:53:35<27:03:05, 151.46s/it]"
     ]
    },
    {
     "name": "stdout",
     "output_type": "stream",
     "text": [
      "822371\r"
     ]
    },
    {
     "name": "stderr",
     "output_type": "stream",
     "text": [
      "\r",
      " 27%|██▋       | 238/880 [5:55:06<23:46:50, 133.35s/it]"
     ]
    },
    {
     "name": "stdout",
     "output_type": "stream",
     "text": [
      "822399\r"
     ]
    },
    {
     "name": "stderr",
     "output_type": "stream",
     "text": [
      "\r",
      " 27%|██▋       | 239/880 [5:56:32<21:12:49, 119.14s/it]"
     ]
    },
    {
     "name": "stdout",
     "output_type": "stream",
     "text": [
      "822430\r"
     ]
    },
    {
     "name": "stderr",
     "output_type": "stream",
     "text": [
      "\r",
      " 27%|██▋       | 240/880 [5:57:56<19:18:39, 108.62s/it]"
     ]
    },
    {
     "name": "stdout",
     "output_type": "stream",
     "text": [
      "822457\r"
     ]
    },
    {
     "name": "stderr",
     "output_type": "stream",
     "text": [
      "\r",
      " 27%|██▋       | 241/880 [5:59:34<18:43:43, 105.51s/it]"
     ]
    },
    {
     "name": "stdout",
     "output_type": "stream",
     "text": [
      "822506\r"
     ]
    },
    {
     "name": "stderr",
     "output_type": "stream",
     "text": [
      "\r",
      " 28%|██▊       | 242/880 [6:01:32<19:21:10, 109.20s/it]"
     ]
    },
    {
     "name": "stdout",
     "output_type": "stream",
     "text": [
      "822515\r"
     ]
    },
    {
     "name": "stderr",
     "output_type": "stream",
     "text": [
      "\r",
      " 28%|██▊       | 243/880 [6:03:18<19:10:08, 108.33s/it]"
     ]
    },
    {
     "name": "stdout",
     "output_type": "stream",
     "text": [
      "822535\r"
     ]
    },
    {
     "name": "stderr",
     "output_type": "stream",
     "text": [
      "\r",
      " 28%|██▊       | 244/880 [6:04:56<18:35:49, 105.27s/it]"
     ]
    },
    {
     "name": "stdout",
     "output_type": "stream",
     "text": [
      "822570\r"
     ]
    },
    {
     "name": "stderr",
     "output_type": "stream",
     "text": [
      "\r",
      " 28%|██▊       | 245/880 [6:06:53<19:10:52, 108.74s/it]"
     ]
    },
    {
     "name": "stdout",
     "output_type": "stream",
     "text": [
      "822591\r"
     ]
    },
    {
     "name": "stderr",
     "output_type": "stream",
     "text": [
      "\r",
      " 28%|██▊       | 246/880 [6:08:09<17:25:13, 98.92s/it] "
     ]
    },
    {
     "name": "stdout",
     "output_type": "stream",
     "text": [
      "822632\r"
     ]
    },
    {
     "name": "stderr",
     "output_type": "stream",
     "text": [
      "\r",
      " 28%|██▊       | 247/880 [6:10:00<18:01:37, 102.52s/it]"
     ]
    },
    {
     "name": "stdout",
     "output_type": "stream",
     "text": [
      "822640\r"
     ]
    },
    {
     "name": "stderr",
     "output_type": "stream",
     "text": [
      "\r",
      " 28%|██▊       | 248/880 [6:11:19<16:44:38, 95.38s/it] "
     ]
    },
    {
     "name": "stdout",
     "output_type": "stream",
     "text": [
      "822662\r"
     ]
    },
    {
     "name": "stderr",
     "output_type": "stream",
     "text": [
      "\r",
      " 28%|██▊       | 249/880 [6:12:45<16:13:43, 92.59s/it]"
     ]
    },
    {
     "name": "stdout",
     "output_type": "stream",
     "text": [
      "822684\r"
     ]
    },
    {
     "name": "stderr",
     "output_type": "stream",
     "text": [
      "\r",
      " 28%|██▊       | 250/880 [6:14:18<16:15:30, 92.91s/it]"
     ]
    },
    {
     "name": "stdout",
     "output_type": "stream",
     "text": [
      "822699\r"
     ]
    },
    {
     "name": "stderr",
     "output_type": "stream",
     "text": [
      "\r",
      " 29%|██▊       | 251/880 [6:15:28<15:00:28, 85.90s/it]"
     ]
    },
    {
     "name": "stdout",
     "output_type": "stream",
     "text": [
      "822702\r"
     ]
    },
    {
     "name": "stderr",
     "output_type": "stream",
     "text": [
      "\r",
      " 29%|██▊       | 252/880 [6:16:34<13:57:53, 80.05s/it]"
     ]
    },
    {
     "name": "stdout",
     "output_type": "stream",
     "text": [
      "822718\r"
     ]
    },
    {
     "name": "stderr",
     "output_type": "stream",
     "text": [
      "\r",
      " 29%|██▉       | 253/880 [6:18:03<14:24:45, 82.75s/it]"
     ]
    },
    {
     "name": "stdout",
     "output_type": "stream",
     "text": [
      "822748\r"
     ]
    },
    {
     "name": "stderr",
     "output_type": "stream",
     "text": [
      "\r",
      " 29%|██▉       | 254/880 [6:19:33<14:45:44, 84.90s/it]"
     ]
    },
    {
     "name": "stdout",
     "output_type": "stream",
     "text": [
      "822754\r"
     ]
    },
    {
     "name": "stderr",
     "output_type": "stream",
     "text": [
      "\r",
      " 29%|██▉       | 255/880 [6:20:37<13:38:19, 78.56s/it]"
     ]
    },
    {
     "name": "stdout",
     "output_type": "stream",
     "text": [
      "822765\r"
     ]
    },
    {
     "name": "stderr",
     "output_type": "stream",
     "text": [
      "\r",
      " 29%|██▉       | 256/880 [6:21:41<12:50:34, 74.09s/it]"
     ]
    },
    {
     "name": "stdout",
     "output_type": "stream",
     "text": [
      "822768\r"
     ]
    },
    {
     "name": "stderr",
     "output_type": "stream",
     "text": [
      "\r",
      " 29%|██▉       | 257/880 [6:23:12<13:43:12, 79.28s/it]"
     ]
    },
    {
     "name": "stdout",
     "output_type": "stream",
     "text": [
      "822801\r"
     ]
    },
    {
     "name": "stderr",
     "output_type": "stream",
     "text": [
      "\r",
      " 29%|██▉       | 258/880 [6:25:16<15:59:25, 92.55s/it]"
     ]
    },
    {
     "name": "stdout",
     "output_type": "stream",
     "text": [
      "822808\r"
     ]
    },
    {
     "name": "stderr",
     "output_type": "stream",
     "text": [
      "\r",
      " 29%|██▉       | 259/880 [6:26:33<15:09:33, 87.88s/it]"
     ]
    },
    {
     "name": "stdout",
     "output_type": "stream",
     "text": [
      "822817\r"
     ]
    },
    {
     "name": "stderr",
     "output_type": "stream",
     "text": [
      "\r",
      " 30%|██▉       | 260/880 [6:27:46<14:22:32, 83.47s/it]"
     ]
    },
    {
     "name": "stdout",
     "output_type": "stream",
     "text": [
      "822851\r"
     ]
    },
    {
     "name": "stderr",
     "output_type": "stream",
     "text": [
      " 30%|██▉       | 262/880 [6:30:01<12:36:34, 73.45s/it]"
     ]
    },
    {
     "name": "stdout",
     "output_type": "stream",
     "text": [
      "822854\r"
     ]
    },
    {
     "name": "stderr",
     "output_type": "stream",
     "text": [
      "\r",
      " 30%|██▉       | 263/880 [6:30:56<11:40:00, 68.07s/it]"
     ]
    },
    {
     "name": "stdout",
     "output_type": "stream",
     "text": [
      "822855\r"
     ]
    },
    {
     "name": "stderr",
     "output_type": "stream",
     "text": [
      "\r",
      " 30%|███       | 264/880 [6:31:55<11:11:49, 65.44s/it]"
     ]
    },
    {
     "name": "stdout",
     "output_type": "stream",
     "text": [
      "822879\r"
     ]
    },
    {
     "name": "stderr",
     "output_type": "stream",
     "text": [
      "\r",
      " 30%|███       | 265/880 [6:33:20<12:10:29, 71.27s/it]"
     ]
    },
    {
     "name": "stdout",
     "output_type": "stream",
     "text": [
      "822882\r"
     ]
    },
    {
     "name": "stderr",
     "output_type": "stream",
     "text": [
      "\r",
      " 30%|███       | 266/880 [6:35:00<13:36:08, 79.75s/it]"
     ]
    },
    {
     "name": "stdout",
     "output_type": "stream",
     "text": [
      "822886\r"
     ]
    },
    {
     "name": "stderr",
     "output_type": "stream",
     "text": [
      "\r",
      " 30%|███       | 267/880 [6:36:05<12:50:25, 75.41s/it]"
     ]
    },
    {
     "name": "stdout",
     "output_type": "stream",
     "text": [
      "822891\r"
     ]
    },
    {
     "name": "stderr",
     "output_type": "stream",
     "text": [
      "\r",
      " 30%|███       | 268/880 [6:37:54<14:30:17, 85.32s/it]"
     ]
    },
    {
     "name": "stdout",
     "output_type": "stream",
     "text": [
      "822898\r"
     ]
    },
    {
     "name": "stderr",
     "output_type": "stream",
     "text": [
      "\r",
      " 31%|███       | 269/880 [6:38:56<13:19:22, 78.50s/it]"
     ]
    },
    {
     "name": "stdout",
     "output_type": "stream",
     "text": [
      "822901\r"
     ]
    },
    {
     "name": "stderr",
     "output_type": "stream",
     "text": [
      "\r",
      " 31%|███       | 270/880 [6:40:04<12:46:38, 75.41s/it]"
     ]
    },
    {
     "name": "stdout",
     "output_type": "stream",
     "text": [
      "822907\r"
     ]
    },
    {
     "name": "stderr",
     "output_type": "stream",
     "text": [
      "\r",
      " 31%|███       | 271/880 [6:41:13<12:26:04, 73.50s/it]"
     ]
    },
    {
     "name": "stdout",
     "output_type": "stream",
     "text": [
      "822931\r"
     ]
    },
    {
     "name": "stderr",
     "output_type": "stream",
     "text": [
      "\r",
      " 31%|███       | 272/880 [6:42:43<13:12:52, 78.24s/it]"
     ]
    },
    {
     "name": "stdout",
     "output_type": "stream",
     "text": [
      "822980\r"
     ]
    },
    {
     "name": "stderr",
     "output_type": "stream",
     "text": [
      "\r",
      " 31%|███       | 273/880 [6:44:38<15:05:01, 89.46s/it]"
     ]
    },
    {
     "name": "stdout",
     "output_type": "stream",
     "text": [
      "822987\r"
     ]
    },
    {
     "name": "stderr",
     "output_type": "stream",
     "text": [
      " 31%|███▏      | 276/880 [6:48:03<12:20:34, 73.57s/it]"
     ]
    },
    {
     "name": "stdout",
     "output_type": "stream",
     "text": [
      "822993\r"
     ]
    },
    {
     "name": "stderr",
     "output_type": "stream",
     "text": [
      "\r",
      " 31%|███▏      | 277/880 [6:49:21<12:34:25, 75.07s/it]"
     ]
    },
    {
     "name": "stdout",
     "output_type": "stream",
     "text": [
      "823043\r"
     ]
    },
    {
     "name": "stderr",
     "output_type": "stream",
     "text": [
      "\r",
      " 32%|███▏      | 278/880 [6:51:11<14:16:05, 85.33s/it]"
     ]
    },
    {
     "name": "stdout",
     "output_type": "stream",
     "text": [
      "823085\r"
     ]
    },
    {
     "name": "stderr",
     "output_type": "stream",
     "text": [
      "\r",
      " 32%|███▏      | 279/880 [6:52:48<14:50:11, 88.87s/it]"
     ]
    },
    {
     "name": "stdout",
     "output_type": "stream",
     "text": [
      "823089\r"
     ]
    },
    {
     "name": "stderr",
     "output_type": "stream",
     "text": [
      "\r",
      " 32%|███▏      | 280/880 [6:53:46<13:17:22, 79.74s/it]"
     ]
    },
    {
     "name": "stdout",
     "output_type": "stream",
     "text": [
      "823095\r"
     ]
    },
    {
     "name": "stderr",
     "output_type": "stream",
     "text": [
      "\r",
      " 32%|███▏      | 281/880 [6:54:51<12:30:03, 75.13s/it]"
     ]
    },
    {
     "name": "stdout",
     "output_type": "stream",
     "text": [
      "823107\r"
     ]
    },
    {
     "name": "stderr",
     "output_type": "stream",
     "text": [
      "\r",
      " 32%|███▏      | 282/880 [6:56:00<12:10:41, 73.31s/it]"
     ]
    },
    {
     "name": "stdout",
     "output_type": "stream",
     "text": [
      "823114\r"
     ]
    },
    {
     "name": "stderr",
     "output_type": "stream",
     "text": [
      "\r",
      " 32%|███▏      | 283/880 [6:57:03<11:38:14, 70.18s/it]"
     ]
    },
    {
     "name": "stdout",
     "output_type": "stream",
     "text": [
      "823118\r"
     ]
    },
    {
     "name": "stderr",
     "output_type": "stream",
     "text": [
      "\r",
      " 32%|███▏      | 284/880 [6:58:10<11:30:01, 69.46s/it]"
     ]
    },
    {
     "name": "stdout",
     "output_type": "stream",
     "text": [
      "823124\r"
     ]
    },
    {
     "name": "stderr",
     "output_type": "stream",
     "text": [
      "\r",
      " 32%|███▏      | 285/880 [6:59:18<11:24:08, 68.99s/it]"
     ]
    },
    {
     "name": "stdout",
     "output_type": "stream",
     "text": [
      "823127\r"
     ]
    },
    {
     "name": "stderr",
     "output_type": "stream",
     "text": [
      "\r",
      " 32%|███▎      | 286/880 [7:00:21<11:04:54, 67.16s/it]"
     ]
    },
    {
     "name": "stdout",
     "output_type": "stream",
     "text": [
      "823137\r"
     ]
    },
    {
     "name": "stderr",
     "output_type": "stream",
     "text": [
      "\r",
      " 33%|███▎      | 287/880 [7:01:26<10:57:42, 66.55s/it]"
     ]
    },
    {
     "name": "stdout",
     "output_type": "stream",
     "text": [
      "823162\r"
     ]
    },
    {
     "name": "stderr",
     "output_type": "stream",
     "text": [
      "\r",
      " 33%|███▎      | 288/880 [7:03:09<12:43:36, 77.39s/it]"
     ]
    },
    {
     "name": "stdout",
     "output_type": "stream",
     "text": [
      "823187\r"
     ]
    },
    {
     "name": "stderr",
     "output_type": "stream",
     "text": [
      "\r",
      " 33%|███▎      | 289/880 [7:04:25<12:39:31, 77.11s/it]"
     ]
    },
    {
     "name": "stdout",
     "output_type": "stream",
     "text": [
      "823213\r"
     ]
    },
    {
     "name": "stderr",
     "output_type": "stream",
     "text": [
      "\r",
      " 33%|███▎      | 290/880 [7:05:44<12:42:36, 77.55s/it]"
     ]
    },
    {
     "name": "stdout",
     "output_type": "stream",
     "text": [
      "823225\r"
     ]
    },
    {
     "name": "stderr",
     "output_type": "stream",
     "text": [
      "\r",
      " 33%|███▎      | 291/880 [7:07:16<13:23:50, 81.88s/it]"
     ]
    },
    {
     "name": "stdout",
     "output_type": "stream",
     "text": [
      "823227\r"
     ]
    },
    {
     "name": "stderr",
     "output_type": "stream",
     "text": [
      " 33%|███▎      | 293/880 [7:09:47<12:46:49, 78.38s/it]"
     ]
    },
    {
     "name": "stdout",
     "output_type": "stream",
     "text": [
      "823241\r"
     ]
    },
    {
     "name": "stderr",
     "output_type": "stream",
     "text": [
      "\r",
      " 33%|███▎      | 294/880 [7:11:16<13:16:54, 81.59s/it]"
     ]
    },
    {
     "name": "stdout",
     "output_type": "stream",
     "text": [
      "823251\r"
     ]
    },
    {
     "name": "stderr",
     "output_type": "stream",
     "text": [
      "\r",
      " 34%|███▎      | 295/880 [7:12:52<13:56:26, 85.79s/it]"
     ]
    },
    {
     "name": "stdout",
     "output_type": "stream",
     "text": [
      "823283\r"
     ]
    },
    {
     "name": "stderr",
     "output_type": "stream",
     "text": [
      "\r",
      " 34%|███▎      | 296/880 [7:14:22<14:06:32, 86.97s/it]"
     ]
    },
    {
     "name": "stdout",
     "output_type": "stream",
     "text": [
      "823302\r"
     ]
    },
    {
     "name": "stderr",
     "output_type": "stream",
     "text": [
      "\r",
      " 34%|███▍      | 297/880 [7:15:46<13:56:58, 86.14s/it]"
     ]
    },
    {
     "name": "stdout",
     "output_type": "stream",
     "text": [
      "823323\r"
     ]
    },
    {
     "name": "stderr",
     "output_type": "stream",
     "text": [
      "\r",
      " 34%|███▍      | 298/880 [7:17:15<14:04:01, 87.01s/it]"
     ]
    },
    {
     "name": "stdout",
     "output_type": "stream",
     "text": [
      "823346\r"
     ]
    },
    {
     "name": "stderr",
     "output_type": "stream",
     "text": [
      "\r",
      " 34%|███▍      | 299/880 [7:18:50<14:24:55, 89.32s/it]"
     ]
    },
    {
     "name": "stdout",
     "output_type": "stream",
     "text": [
      "823347\r"
     ]
    },
    {
     "name": "stderr",
     "output_type": "stream",
     "text": [
      "\r",
      " 34%|███▍      | 300/880 [7:19:58<13:23:25, 83.11s/it]"
     ]
    },
    {
     "name": "stdout",
     "output_type": "stream",
     "text": [
      "823352\r"
     ]
    },
    {
     "name": "stderr",
     "output_type": "stream",
     "text": [
      "\r",
      " 34%|███▍      | 301/880 [7:21:19<13:15:22, 82.42s/it]"
     ]
    },
    {
     "name": "stdout",
     "output_type": "stream",
     "text": [
      "823357\r"
     ]
    },
    {
     "name": "stderr",
     "output_type": "stream",
     "text": [
      "\r",
      " 34%|███▍      | 302/880 [7:22:48<13:33:18, 84.43s/it]"
     ]
    },
    {
     "name": "stdout",
     "output_type": "stream",
     "text": [
      "823370\r"
     ]
    },
    {
     "name": "stderr",
     "output_type": "stream",
     "text": [
      "\r",
      " 34%|███▍      | 303/880 [7:24:12<13:29:40, 84.19s/it]"
     ]
    },
    {
     "name": "stdout",
     "output_type": "stream",
     "text": [
      "823379\r"
     ]
    },
    {
     "name": "stderr",
     "output_type": "stream",
     "text": [
      "\r",
      " 35%|███▍      | 304/880 [7:25:27<13:02:30, 81.51s/it]"
     ]
    },
    {
     "name": "stdout",
     "output_type": "stream",
     "text": [
      "823380\r",
      "823381\r"
     ]
    },
    {
     "name": "stderr",
     "output_type": "stream",
     "text": [
      "\r",
      " 35%|███▍      | 305/880 [7:26:37<12:27:40, 78.02s/it]"
     ]
    },
    {
     "name": "stdout",
     "output_type": "stream",
     "text": [
      "823387\r"
     ]
    },
    {
     "name": "stderr",
     "output_type": "stream",
     "text": [
      "\r",
      " 35%|███▍      | 306/880 [7:28:04<12:52:39, 80.77s/it]"
     ]
    },
    {
     "name": "stdout",
     "output_type": "stream",
     "text": [
      "823388\r"
     ]
    },
    {
     "name": "stderr",
     "output_type": "stream",
     "text": [
      "\r",
      " 35%|███▍      | 307/880 [7:29:25<12:51:01, 80.74s/it]"
     ]
    },
    {
     "name": "stdout",
     "output_type": "stream",
     "text": [
      "823396\r"
     ]
    },
    {
     "name": "stderr",
     "output_type": "stream",
     "text": [
      "\r",
      " 35%|███▌      | 308/880 [7:30:40<12:32:36, 78.94s/it]"
     ]
    },
    {
     "name": "stdout",
     "output_type": "stream",
     "text": [
      "823426\r"
     ]
    },
    {
     "name": "stderr",
     "output_type": "stream",
     "text": [
      "\r",
      " 35%|███▌      | 309/880 [7:32:12<13:09:33, 82.97s/it]"
     ]
    },
    {
     "name": "stdout",
     "output_type": "stream",
     "text": [
      "823466\r"
     ]
    },
    {
     "name": "stderr",
     "output_type": "stream",
     "text": [
      "\r",
      " 35%|███▌      | 310/880 [7:33:40<13:23:02, 84.53s/it]"
     ]
    },
    {
     "name": "stdout",
     "output_type": "stream",
     "text": [
      "823509\r"
     ]
    },
    {
     "name": "stderr",
     "output_type": "stream",
     "text": [
      "\r",
      " 35%|███▌      | 311/880 [7:35:06<13:26:01, 84.99s/it]"
     ]
    },
    {
     "name": "stdout",
     "output_type": "stream",
     "text": [
      "823523\r"
     ]
    },
    {
     "name": "stderr",
     "output_type": "stream",
     "text": [
      "\r",
      " 35%|███▌      | 312/880 [7:36:37<13:40:50, 86.71s/it]"
     ]
    },
    {
     "name": "stdout",
     "output_type": "stream",
     "text": [
      "823537\r"
     ]
    },
    {
     "name": "stderr",
     "output_type": "stream",
     "text": [
      "\r",
      " 36%|███▌      | 313/880 [7:37:44<12:44:35, 80.91s/it]"
     ]
    },
    {
     "name": "stdout",
     "output_type": "stream",
     "text": [
      "823559\r"
     ]
    },
    {
     "name": "stderr",
     "output_type": "stream",
     "text": [
      "\r",
      " 36%|███▌      | 314/880 [7:39:12<13:03:20, 83.04s/it]"
     ]
    },
    {
     "name": "stdout",
     "output_type": "stream",
     "text": [
      "823580\r"
     ]
    },
    {
     "name": "stderr",
     "output_type": "stream",
     "text": [
      "\r",
      " 36%|███▌      | 315/880 [7:40:43<13:22:56, 85.27s/it]"
     ]
    },
    {
     "name": "stdout",
     "output_type": "stream",
     "text": [
      "823594\r"
     ]
    },
    {
     "name": "stderr",
     "output_type": "stream",
     "text": [
      "\r",
      " 36%|███▌      | 316/880 [7:42:26<14:12:06, 90.65s/it]"
     ]
    },
    {
     "name": "stdout",
     "output_type": "stream",
     "text": [
      "823605\r"
     ]
    },
    {
     "name": "stderr",
     "output_type": "stream",
     "text": [
      "\r",
      " 36%|███▌      | 317/880 [7:43:54<14:03:59, 89.95s/it]"
     ]
    },
    {
     "name": "stdout",
     "output_type": "stream",
     "text": [
      "823652\r"
     ]
    },
    {
     "name": "stderr",
     "output_type": "stream",
     "text": [
      "\r",
      " 36%|███▌      | 318/880 [7:46:08<16:05:32, 103.08s/it]"
     ]
    },
    {
     "name": "stdout",
     "output_type": "stream",
     "text": [
      "823667\r"
     ]
    },
    {
     "name": "stderr",
     "output_type": "stream",
     "text": [
      "\r",
      " 36%|███▋      | 319/880 [7:47:49<15:58:45, 102.54s/it]"
     ]
    },
    {
     "name": "stdout",
     "output_type": "stream",
     "text": [
      "823696\r"
     ]
    },
    {
     "name": "stderr",
     "output_type": "stream",
     "text": [
      "\r",
      " 36%|███▋      | 320/880 [7:49:29<15:47:40, 101.54s/it]"
     ]
    },
    {
     "name": "stdout",
     "output_type": "stream",
     "text": [
      "823712\r"
     ]
    },
    {
     "name": "stderr",
     "output_type": "stream",
     "text": [
      "\r",
      " 36%|███▋      | 321/880 [7:51:22<16:20:30, 105.24s/it]"
     ]
    },
    {
     "name": "stdout",
     "output_type": "stream",
     "text": [
      "823722\r"
     ]
    },
    {
     "name": "stderr",
     "output_type": "stream",
     "text": [
      "\r",
      " 37%|███▋      | 322/880 [7:52:32<14:40:13, 94.65s/it] "
     ]
    },
    {
     "name": "stdout",
     "output_type": "stream",
     "text": [
      "823738\r"
     ]
    },
    {
     "name": "stderr",
     "output_type": "stream",
     "text": [
      "\r",
      " 37%|███▋      | 323/880 [7:53:55<14:04:53, 91.01s/it]"
     ]
    },
    {
     "name": "stdout",
     "output_type": "stream",
     "text": [
      "823757\r"
     ]
    },
    {
     "name": "stderr",
     "output_type": "stream",
     "text": [
      "\r",
      " 37%|███▋      | 324/880 [7:55:33<14:24:23, 93.28s/it]"
     ]
    },
    {
     "name": "stdout",
     "output_type": "stream",
     "text": [
      "823791\r"
     ]
    },
    {
     "name": "stderr",
     "output_type": "stream",
     "text": [
      "\r",
      " 37%|███▋      | 325/880 [7:57:19<14:55:48, 96.84s/it]"
     ]
    },
    {
     "name": "stdout",
     "output_type": "stream",
     "text": [
      "823794\r"
     ]
    },
    {
     "name": "stderr",
     "output_type": "stream",
     "text": [
      "\r",
      " 37%|███▋      | 326/880 [7:58:26<13:33:35, 88.11s/it]"
     ]
    },
    {
     "name": "stdout",
     "output_type": "stream",
     "text": [
      "823800\r"
     ]
    },
    {
     "name": "stderr",
     "output_type": "stream",
     "text": [
      "\r",
      " 37%|███▋      | 327/880 [7:59:49<13:16:12, 86.39s/it]"
     ]
    },
    {
     "name": "stdout",
     "output_type": "stream",
     "text": [
      "823826\r"
     ]
    },
    {
     "name": "stderr",
     "output_type": "stream",
     "text": [
      "\r",
      " 37%|███▋      | 328/880 [8:01:28<13:49:35, 90.17s/it]"
     ]
    },
    {
     "name": "stdout",
     "output_type": "stream",
     "text": [
      "823850\r"
     ]
    },
    {
     "name": "stderr",
     "output_type": "stream",
     "text": [
      "\r",
      " 37%|███▋      | 329/880 [8:02:54<13:38:30, 89.13s/it]"
     ]
    },
    {
     "name": "stdout",
     "output_type": "stream",
     "text": [
      "823859\r"
     ]
    },
    {
     "name": "stderr",
     "output_type": "stream",
     "text": [
      "\r",
      " 38%|███▊      | 330/880 [8:04:27<13:47:55, 90.32s/it]"
     ]
    },
    {
     "name": "stdout",
     "output_type": "stream",
     "text": [
      "823861\r"
     ]
    },
    {
     "name": "stderr",
     "output_type": "stream",
     "text": [
      "\r",
      " 38%|███▊      | 331/880 [8:05:57<13:44:54, 90.15s/it]"
     ]
    },
    {
     "name": "stdout",
     "output_type": "stream",
     "text": [
      "823888\r"
     ]
    },
    {
     "name": "stderr",
     "output_type": "stream",
     "text": [
      "\r",
      " 38%|███▊      | 332/880 [8:07:26<13:39:25, 89.72s/it]"
     ]
    },
    {
     "name": "stdout",
     "output_type": "stream",
     "text": [
      "823904\r"
     ]
    },
    {
     "name": "stderr",
     "output_type": "stream",
     "text": [
      "\r",
      " 38%|███▊      | 333/880 [8:08:38<12:50:46, 84.55s/it]"
     ]
    },
    {
     "name": "stdout",
     "output_type": "stream",
     "text": [
      "823914\r"
     ]
    },
    {
     "name": "stderr",
     "output_type": "stream",
     "text": [
      "\r",
      " 38%|███▊      | 334/880 [8:09:48<12:07:27, 79.94s/it]"
     ]
    },
    {
     "name": "stdout",
     "output_type": "stream",
     "text": [
      "823921\r"
     ]
    },
    {
     "name": "stderr",
     "output_type": "stream",
     "text": [
      "\r",
      " 38%|███▊      | 335/880 [8:10:35<10:37:09, 70.15s/it]"
     ]
    },
    {
     "name": "stdout",
     "output_type": "stream",
     "text": [
      "823931\r"
     ]
    },
    {
     "name": "stderr",
     "output_type": "stream",
     "text": [
      "\r",
      " 38%|███▊      | 336/880 [8:11:45<10:35:17, 70.07s/it]"
     ]
    },
    {
     "name": "stdout",
     "output_type": "stream",
     "text": [
      "823967\r"
     ]
    },
    {
     "name": "stderr",
     "output_type": "stream",
     "text": [
      "\r",
      " 38%|███▊      | 337/880 [8:13:22<11:48:24, 78.28s/it]"
     ]
    },
    {
     "name": "stdout",
     "output_type": "stream",
     "text": [
      "824008\r"
     ]
    },
    {
     "name": "stderr",
     "output_type": "stream",
     "text": [
      "\r",
      " 38%|███▊      | 338/880 [8:14:58<12:34:44, 83.55s/it]"
     ]
    },
    {
     "name": "stdout",
     "output_type": "stream",
     "text": [
      "824026\r"
     ]
    },
    {
     "name": "stderr",
     "output_type": "stream",
     "text": [
      "\r",
      " 39%|███▊      | 339/880 [8:16:09<11:59:56, 79.84s/it]"
     ]
    },
    {
     "name": "stdout",
     "output_type": "stream",
     "text": [
      "824035\r"
     ]
    },
    {
     "name": "stderr",
     "output_type": "stream",
     "text": [
      "\r",
      " 39%|███▊      | 340/880 [8:17:23<11:42:58, 78.11s/it]"
     ]
    },
    {
     "name": "stdout",
     "output_type": "stream",
     "text": [
      "824064\r"
     ]
    },
    {
     "name": "stderr",
     "output_type": "stream",
     "text": [
      "\r",
      " 39%|███▉      | 341/880 [8:18:45<11:50:40, 79.11s/it]"
     ]
    },
    {
     "name": "stdout",
     "output_type": "stream",
     "text": [
      "824081\r"
     ]
    },
    {
     "name": "stderr",
     "output_type": "stream",
     "text": [
      "\r",
      " 39%|███▉      | 342/880 [8:20:01<11:42:13, 78.32s/it]"
     ]
    },
    {
     "name": "stdout",
     "output_type": "stream",
     "text": [
      "824098\r"
     ]
    },
    {
     "name": "stderr",
     "output_type": "stream",
     "text": [
      "\r",
      " 39%|███▉      | 343/880 [8:21:21<11:44:19, 78.69s/it]"
     ]
    },
    {
     "name": "stdout",
     "output_type": "stream",
     "text": [
      "824102\r"
     ]
    },
    {
     "name": "stderr",
     "output_type": "stream",
     "text": [
      "\r",
      " 39%|███▉      | 344/880 [8:22:21<10:52:41, 73.06s/it]"
     ]
    },
    {
     "name": "stdout",
     "output_type": "stream",
     "text": [
      "824139\r"
     ]
    },
    {
     "name": "stderr",
     "output_type": "stream",
     "text": [
      "\r",
      " 39%|███▉      | 345/880 [8:23:45<11:21:45, 76.46s/it]"
     ]
    },
    {
     "name": "stdout",
     "output_type": "stream",
     "text": [
      "824168\r"
     ]
    },
    {
     "name": "stderr",
     "output_type": "stream",
     "text": [
      "\r",
      " 39%|███▉      | 346/880 [8:25:04<11:26:41, 77.16s/it]"
     ]
    },
    {
     "name": "stdout",
     "output_type": "stream",
     "text": [
      "824197\r"
     ]
    },
    {
     "name": "stderr",
     "output_type": "stream",
     "text": [
      "\r",
      " 39%|███▉      | 347/880 [8:26:53<12:51:18, 86.83s/it]"
     ]
    },
    {
     "name": "stdout",
     "output_type": "stream",
     "text": [
      "824210\r"
     ]
    },
    {
     "name": "stderr",
     "output_type": "stream",
     "text": [
      "\r",
      " 40%|███▉      | 348/880 [8:28:23<12:57:16, 87.66s/it]"
     ]
    },
    {
     "name": "stdout",
     "output_type": "stream",
     "text": [
      "824215\r"
     ]
    },
    {
     "name": "stderr",
     "output_type": "stream",
     "text": [
      "\r",
      " 40%|███▉      | 349/880 [8:29:26<11:50:01, 80.23s/it]"
     ]
    },
    {
     "name": "stdout",
     "output_type": "stream",
     "text": [
      "824238\r"
     ]
    },
    {
     "name": "stderr",
     "output_type": "stream",
     "text": [
      "\r",
      " 40%|███▉      | 350/880 [8:30:54<12:09:00, 82.53s/it]"
     ]
    },
    {
     "name": "stdout",
     "output_type": "stream",
     "text": [
      "824246\r"
     ]
    },
    {
     "name": "stderr",
     "output_type": "stream",
     "text": [
      "\r",
      " 40%|███▉      | 351/880 [8:32:08<11:46:40, 80.15s/it]"
     ]
    },
    {
     "name": "stdout",
     "output_type": "stream",
     "text": [
      "824254\r"
     ]
    },
    {
     "name": "stderr",
     "output_type": "stream",
     "text": [
      "\r",
      " 40%|████      | 352/880 [8:33:22<11:27:30, 78.13s/it]"
     ]
    },
    {
     "name": "stdout",
     "output_type": "stream",
     "text": [
      "824257\r"
     ]
    },
    {
     "name": "stderr",
     "output_type": "stream",
     "text": [
      "\r",
      " 40%|████      | 353/880 [8:34:33<11:07:48, 76.03s/it]"
     ]
    },
    {
     "name": "stdout",
     "output_type": "stream",
     "text": [
      "824294\r"
     ]
    },
    {
     "name": "stderr",
     "output_type": "stream",
     "text": [
      "\r",
      " 40%|████      | 354/880 [8:35:58<11:29:43, 78.68s/it]"
     ]
    },
    {
     "name": "stdout",
     "output_type": "stream",
     "text": [
      "824307\r"
     ]
    },
    {
     "name": "stderr",
     "output_type": "stream",
     "text": [
      "\r",
      " 40%|████      | 355/880 [8:37:08<11:06:31, 76.17s/it]"
     ]
    },
    {
     "name": "stdout",
     "output_type": "stream",
     "text": [
      "824313\r"
     ]
    },
    {
     "name": "stderr",
     "output_type": "stream",
     "text": [
      "\r",
      " 40%|████      | 356/880 [8:38:17<10:46:25, 74.02s/it]"
     ]
    },
    {
     "name": "stdout",
     "output_type": "stream",
     "text": [
      "824343\r"
     ]
    },
    {
     "name": "stderr",
     "output_type": "stream",
     "text": [
      " 41%|████      | 358/880 [8:40:47<10:33:42, 72.84s/it]"
     ]
    },
    {
     "name": "stdout",
     "output_type": "stream",
     "text": [
      "824344\r"
     ]
    },
    {
     "name": "stderr",
     "output_type": "stream",
     "text": [
      "\r",
      " 41%|████      | 359/880 [8:41:42<9:46:20, 67.53s/it] "
     ]
    },
    {
     "name": "stdout",
     "output_type": "stream",
     "text": [
      "824360\r"
     ]
    },
    {
     "name": "stderr",
     "output_type": "stream",
     "text": [
      "\r",
      " 41%|████      | 360/880 [8:43:06<10:28:20, 72.50s/it]"
     ]
    },
    {
     "name": "stdout",
     "output_type": "stream",
     "text": [
      "824369\r"
     ]
    },
    {
     "name": "stderr",
     "output_type": "stream",
     "text": [
      "\r",
      " 41%|████      | 361/880 [8:44:20<10:30:18, 72.87s/it]"
     ]
    },
    {
     "name": "stdout",
     "output_type": "stream",
     "text": [
      "824376\r"
     ]
    },
    {
     "name": "stderr",
     "output_type": "stream",
     "text": [
      " 41%|████      | 361/880 [8:45:11<12:35:03, 87.29s/it]\n"
     ]
    }
   ],
   "source": [
    "start = time.time()\n",
    "rus = bulk.replace_lang_names('rus')\n",
    "end = time.time()\n",
    "end-start"
   ]
  },
  {
   "cell_type": "code",
   "execution_count": 21,
   "metadata": {},
   "outputs": [
    {
     "data": {
      "text/html": [
       "<div>\n",
       "<style scoped>\n",
       "    .dataframe tbody tr th:only-of-type {\n",
       "        vertical-align: middle;\n",
       "    }\n",
       "\n",
       "    .dataframe tbody tr th {\n",
       "        vertical-align: top;\n",
       "    }\n",
       "\n",
       "    .dataframe thead th {\n",
       "        text-align: right;\n",
       "    }\n",
       "</style>\n",
       "<table border=\"1\" class=\"dataframe\">\n",
       "  <thead>\n",
       "    <tr style=\"text-align: right;\">\n",
       "      <th></th>\n",
       "      <th>tatoeba_id</th>\n",
       "      <th>language</th>\n",
       "      <th>sentence</th>\n",
       "      <th>sentence_new</th>\n",
       "    </tr>\n",
       "    <tr>\n",
       "      <th>tatoeba_id</th>\n",
       "      <th></th>\n",
       "      <th></th>\n",
       "      <th></th>\n",
       "      <th></th>\n",
       "    </tr>\n",
       "  </thead>\n",
       "  <tbody>\n",
       "    <tr>\n",
       "      <th>341066</th>\n",
       "      <td>341066</td>\n",
       "      <td>por</td>\n",
       "      <td>Tom está tocando violino agora.</td>\n",
       "      <td>Luis está tocando violino agora.</td>\n",
       "    </tr>\n",
       "    <tr>\n",
       "      <th>341105</th>\n",
       "      <td>341105</td>\n",
       "      <td>por</td>\n",
       "      <td>Tom lidera o time de futebol.</td>\n",
       "      <td>Gabriel lidera o time de futebol.</td>\n",
       "    </tr>\n",
       "    <tr>\n",
       "      <th>376504</th>\n",
       "      <td>376504</td>\n",
       "      <td>por</td>\n",
       "      <td>Tom saiu com a namorada na noite do sábado.</td>\n",
       "      <td>Jonas saiu com a namorada na noite do sábado.</td>\n",
       "    </tr>\n",
       "    <tr>\n",
       "      <th>377704</th>\n",
       "      <td>377704</td>\n",
       "      <td>por</td>\n",
       "      <td>De manhã Tom disse que a irmã dele ainda está ...</td>\n",
       "      <td>De manhã Santiago disse que a irmã dele ainda ...</td>\n",
       "    </tr>\n",
       "    <tr>\n",
       "      <th>377798</th>\n",
       "      <td>377798</td>\n",
       "      <td>por</td>\n",
       "      <td>Ela casou-se com Tom mês passado.</td>\n",
       "      <td>Ela casou-se com Peter mês passado.</td>\n",
       "    </tr>\n",
       "    <tr>\n",
       "      <th>384783</th>\n",
       "      <td>384783</td>\n",
       "      <td>por</td>\n",
       "      <td>Tom é um amigo meu.</td>\n",
       "      <td>Jonas é um amigo meu.</td>\n",
       "    </tr>\n",
       "    <tr>\n",
       "      <th>384821</th>\n",
       "      <td>384821</td>\n",
       "      <td>por</td>\n",
       "      <td>Oi, Tom. Bom dia.</td>\n",
       "      <td>Oi, Leonardo. Bom dia.</td>\n",
       "    </tr>\n",
       "    <tr>\n",
       "      <th>390826</th>\n",
       "      <td>390826</td>\n",
       "      <td>por</td>\n",
       "      <td>Tom fala mais devagar do que Bill.</td>\n",
       "      <td>Sergei fala mais devagar do que Bill.</td>\n",
       "    </tr>\n",
       "    <tr>\n",
       "      <th>393426</th>\n",
       "      <td>393426</td>\n",
       "      <td>por</td>\n",
       "      <td>Eu pedi a Tom para abrir a janela.</td>\n",
       "      <td>Eu pedi a Abraham para abrir a janela.</td>\n",
       "    </tr>\n",
       "    <tr>\n",
       "      <th>401058</th>\n",
       "      <td>401058</td>\n",
       "      <td>por</td>\n",
       "      <td>Tom, o que você gostaria de comer no jantar?</td>\n",
       "      <td>Alexander, o que você gostaria de comer no jan...</td>\n",
       "    </tr>\n",
       "    <tr>\n",
       "      <th>405120</th>\n",
       "      <td>405120</td>\n",
       "      <td>por</td>\n",
       "      <td>Bom dia, disse Tom sorrindo.</td>\n",
       "      <td>Bom dia, disse John sorrindo.</td>\n",
       "    </tr>\n",
       "    <tr>\n",
       "      <th>405527</th>\n",
       "      <td>405527</td>\n",
       "      <td>por</td>\n",
       "      <td>Tom não gosta de queijo.</td>\n",
       "      <td>Robert não gosta de queijo.</td>\n",
       "    </tr>\n",
       "    <tr>\n",
       "      <th>411595</th>\n",
       "      <td>411595</td>\n",
       "      <td>por</td>\n",
       "      <td>Apresse-se, Tom.</td>\n",
       "      <td>Apresse-se, Sergei.</td>\n",
       "    </tr>\n",
       "    <tr>\n",
       "      <th>419915</th>\n",
       "      <td>419915</td>\n",
       "      <td>por</td>\n",
       "      <td>Tom gosta de tomates?</td>\n",
       "      <td>Jonas gosta de tomates?</td>\n",
       "    </tr>\n",
       "    <tr>\n",
       "      <th>423925</th>\n",
       "      <td>423925</td>\n",
       "      <td>por</td>\n",
       "      <td>Tom não jantou ontem.</td>\n",
       "      <td>Daniel não jantou ontem.</td>\n",
       "    </tr>\n",
       "    <tr>\n",
       "      <th>423937</th>\n",
       "      <td>423937</td>\n",
       "      <td>por</td>\n",
       "      <td>Tom não corre tão rápido quanto Bill.</td>\n",
       "      <td>John não corre tão rápido quanto Bill.</td>\n",
       "    </tr>\n",
       "    <tr>\n",
       "      <th>423938</th>\n",
       "      <td>423938</td>\n",
       "      <td>por</td>\n",
       "      <td>Tom cometeu alguns erros no teste.</td>\n",
       "      <td>Daniel cometeu alguns erros no teste.</td>\n",
       "    </tr>\n",
       "    <tr>\n",
       "      <th>423970</th>\n",
       "      <td>423970</td>\n",
       "      <td>por</td>\n",
       "      <td>Quem te ajudou? \"Foi Tom.\"</td>\n",
       "      <td>Quem te ajudou? \"Foi Omar.\"</td>\n",
       "    </tr>\n",
       "    <tr>\n",
       "      <th>423971</th>\n",
       "      <td>423971</td>\n",
       "      <td>por</td>\n",
       "      <td>Quando eu cheguei em casa, Tom estava estudando.</td>\n",
       "      <td>Quando eu cheguei em casa, Jonas estava estuda...</td>\n",
       "    </tr>\n",
       "    <tr>\n",
       "      <th>423972</th>\n",
       "      <td>423972</td>\n",
       "      <td>por</td>\n",
       "      <td>Tom está na porta. Por favor peça para ele ent...</td>\n",
       "      <td>Peter está na porta. Por favor peça para ele e...</td>\n",
       "    </tr>\n",
       "    <tr>\n",
       "      <th>438860</th>\n",
       "      <td>438860</td>\n",
       "      <td>por</td>\n",
       "      <td>O Tom está a deixar o bigode crescer.</td>\n",
       "      <td>O Santiago está a deixar o bigode crescer.</td>\n",
       "    </tr>\n",
       "    <tr>\n",
       "      <th>439616</th>\n",
       "      <td>439616</td>\n",
       "      <td>por</td>\n",
       "      <td>Tom está deixando o bigode crescer.</td>\n",
       "      <td>Santiago está deixando o bigode crescer.</td>\n",
       "    </tr>\n",
       "    <tr>\n",
       "      <th>518977</th>\n",
       "      <td>518977</td>\n",
       "      <td>por</td>\n",
       "      <td>Tom me ligou ontem às 9 da manhã.</td>\n",
       "      <td>Robert me ligou ontem às 9 da manhã.</td>\n",
       "    </tr>\n",
       "    <tr>\n",
       "      <th>535202</th>\n",
       "      <td>535202</td>\n",
       "      <td>por</td>\n",
       "      <td>Aquele bebê é Tom.</td>\n",
       "      <td>Aquele bebê é Daniel.</td>\n",
       "    </tr>\n",
       "    <tr>\n",
       "      <th>569329</th>\n",
       "      <td>569329</td>\n",
       "      <td>por</td>\n",
       "      <td>Tom tem um gato preto.</td>\n",
       "      <td>Sergei tem um gato preto.</td>\n",
       "    </tr>\n",
       "    <tr>\n",
       "      <th>576739</th>\n",
       "      <td>576739</td>\n",
       "      <td>por</td>\n",
       "      <td>Eu sou Tom Hunter.</td>\n",
       "      <td>Eu sou Omar Hunter.</td>\n",
       "    </tr>\n",
       "    <tr>\n",
       "      <th>576752</th>\n",
       "      <td>576752</td>\n",
       "      <td>por</td>\n",
       "      <td>Tom levou Kate para casa.</td>\n",
       "      <td>Alexander levou Kate para casa.</td>\n",
       "    </tr>\n",
       "    <tr>\n",
       "      <th>576753</th>\n",
       "      <td>576753</td>\n",
       "      <td>por</td>\n",
       "      <td>Tom acompanhou Kate até sua casa.</td>\n",
       "      <td>Alexander acompanhou Kate até sua casa.</td>\n",
       "    </tr>\n",
       "    <tr>\n",
       "      <th>576760</th>\n",
       "      <td>576760</td>\n",
       "      <td>por</td>\n",
       "      <td>Tom é meu amigo.</td>\n",
       "      <td>Jonas é meu amigo.</td>\n",
       "    </tr>\n",
       "    <tr>\n",
       "      <th>576769</th>\n",
       "      <td>576769</td>\n",
       "      <td>por</td>\n",
       "      <td>Tom perdeu o emprego.</td>\n",
       "      <td>John perdeu o emprego.</td>\n",
       "    </tr>\n",
       "    <tr>\n",
       "      <th>579874</th>\n",
       "      <td>579874</td>\n",
       "      <td>por</td>\n",
       "      <td>Eu encontrei Tom no caminho da escola.</td>\n",
       "      <td>Eu encontrei Sergei no caminho da escola.</td>\n",
       "    </tr>\n",
       "    <tr>\n",
       "      <th>692092</th>\n",
       "      <td>692092</td>\n",
       "      <td>por</td>\n",
       "      <td>Gosto do Tom porque ele é honesto.</td>\n",
       "      <td>Gosto do Daniel porque ele é honesto.</td>\n",
       "    </tr>\n",
       "    <tr>\n",
       "      <th>719594</th>\n",
       "      <td>719594</td>\n",
       "      <td>por</td>\n",
       "      <td>Tom é da mesma altura de Jim.</td>\n",
       "      <td>Daniel é da mesma altura de Jim.</td>\n",
       "    </tr>\n",
       "    <tr>\n",
       "      <th>720939</th>\n",
       "      <td>720939</td>\n",
       "      <td>por</td>\n",
       "      <td>Tom ligou o motor.</td>\n",
       "      <td>Omar ligou o motor.</td>\n",
       "    </tr>\n",
       "    <tr>\n",
       "      <th>721012</th>\n",
       "      <td>721012</td>\n",
       "      <td>por</td>\n",
       "      <td>Tom errou algumas coisas na prova.</td>\n",
       "      <td>Daniel errou algumas coisas na prova.</td>\n",
       "    </tr>\n",
       "    <tr>\n",
       "      <th>728023</th>\n",
       "      <td>728023</td>\n",
       "      <td>por</td>\n",
       "      <td>Tom escondeu suas preocupações da mulher dele.</td>\n",
       "      <td>Leonardo escondeu suas preocupações da mulher ...</td>\n",
       "    </tr>\n",
       "    <tr>\n",
       "      <th>728029</th>\n",
       "      <td>728029</td>\n",
       "      <td>por</td>\n",
       "      <td>Tom cria cavalos árabes.</td>\n",
       "      <td>Alexander cria cavalos árabes.</td>\n",
       "    </tr>\n",
       "    <tr>\n",
       "      <th>728987</th>\n",
       "      <td>728987</td>\n",
       "      <td>por</td>\n",
       "      <td>O Tom sabe nadar bem.</td>\n",
       "      <td>O James sabe nadar bem.</td>\n",
       "    </tr>\n",
       "    <tr>\n",
       "      <th>729147</th>\n",
       "      <td>729147</td>\n",
       "      <td>por</td>\n",
       "      <td>Tom gosta de curry picante.</td>\n",
       "      <td>Luis gosta de curry picante.</td>\n",
       "    </tr>\n",
       "    <tr>\n",
       "      <th>736166</th>\n",
       "      <td>736166</td>\n",
       "      <td>por</td>\n",
       "      <td>Tom não gosta de animais de estimação.</td>\n",
       "      <td>James não gosta de animais de estimação.</td>\n",
       "    </tr>\n",
       "    <tr>\n",
       "      <th>736178</th>\n",
       "      <td>736178</td>\n",
       "      <td>por</td>\n",
       "      <td>Tom chamou seu cachorro de Rex.</td>\n",
       "      <td>Peter chamou seu cachorro de Rex.</td>\n",
       "    </tr>\n",
       "    <tr>\n",
       "      <th>736179</th>\n",
       "      <td>736179</td>\n",
       "      <td>por</td>\n",
       "      <td>Tom deu o nome Rex para seu cachorro.</td>\n",
       "      <td>Peter deu o nome Rex para seu cachorro.</td>\n",
       "    </tr>\n",
       "    <tr>\n",
       "      <th>736187</th>\n",
       "      <td>736187</td>\n",
       "      <td>por</td>\n",
       "      <td>Tom ama estudar música.</td>\n",
       "      <td>Leonardo ama estudar música.</td>\n",
       "    </tr>\n",
       "    <tr>\n",
       "      <th>736215</th>\n",
       "      <td>736215</td>\n",
       "      <td>por</td>\n",
       "      <td>Parece que Tom cometeu um grande erro.</td>\n",
       "      <td>Parece que Alexander cometeu um grande erro.</td>\n",
       "    </tr>\n",
       "    <tr>\n",
       "      <th>742902</th>\n",
       "      <td>742902</td>\n",
       "      <td>por</td>\n",
       "      <td>Tom está sempre atrasado.</td>\n",
       "      <td>Sergei está sempre atrasado.</td>\n",
       "    </tr>\n",
       "    <tr>\n",
       "      <th>748839</th>\n",
       "      <td>748839</td>\n",
       "      <td>por</td>\n",
       "      <td>Onde Tom nasceu?</td>\n",
       "      <td>Onde Abraham nasceu?</td>\n",
       "    </tr>\n",
       "    <tr>\n",
       "      <th>748993</th>\n",
       "      <td>748993</td>\n",
       "      <td>por</td>\n",
       "      <td>Tom fez um novo vestido para Jill.</td>\n",
       "      <td>Gabriel fez um novo vestido para Jill.</td>\n",
       "    </tr>\n",
       "    <tr>\n",
       "      <th>752776</th>\n",
       "      <td>752776</td>\n",
       "      <td>por</td>\n",
       "      <td>Você pode sempre contar com Tom.</td>\n",
       "      <td>Você pode sempre contar com Luis.</td>\n",
       "    </tr>\n",
       "    <tr>\n",
       "      <th>752777</th>\n",
       "      <td>752777</td>\n",
       "      <td>por</td>\n",
       "      <td>Você pode sempre confiar em Tom.</td>\n",
       "      <td>Você pode sempre confiar em Luis.</td>\n",
       "    </tr>\n",
       "    <tr>\n",
       "      <th>752791</th>\n",
       "      <td>752791</td>\n",
       "      <td>por</td>\n",
       "      <td>Tio Tom é irmão da minha mãe.</td>\n",
       "      <td>Tio Robert é irmão da minha mãe.</td>\n",
       "    </tr>\n",
       "  </tbody>\n",
       "</table>\n",
       "</div>"
      ],
      "text/plain": [
       "            tatoeba_id language  \\\n",
       "tatoeba_id                        \n",
       "341066          341066      por   \n",
       "341105          341105      por   \n",
       "376504          376504      por   \n",
       "377704          377704      por   \n",
       "377798          377798      por   \n",
       "384783          384783      por   \n",
       "384821          384821      por   \n",
       "390826          390826      por   \n",
       "393426          393426      por   \n",
       "401058          401058      por   \n",
       "405120          405120      por   \n",
       "405527          405527      por   \n",
       "411595          411595      por   \n",
       "419915          419915      por   \n",
       "423925          423925      por   \n",
       "423937          423937      por   \n",
       "423938          423938      por   \n",
       "423970          423970      por   \n",
       "423971          423971      por   \n",
       "423972          423972      por   \n",
       "438860          438860      por   \n",
       "439616          439616      por   \n",
       "518977          518977      por   \n",
       "535202          535202      por   \n",
       "569329          569329      por   \n",
       "576739          576739      por   \n",
       "576752          576752      por   \n",
       "576753          576753      por   \n",
       "576760          576760      por   \n",
       "576769          576769      por   \n",
       "579874          579874      por   \n",
       "692092          692092      por   \n",
       "719594          719594      por   \n",
       "720939          720939      por   \n",
       "721012          721012      por   \n",
       "728023          728023      por   \n",
       "728029          728029      por   \n",
       "728987          728987      por   \n",
       "729147          729147      por   \n",
       "736166          736166      por   \n",
       "736178          736178      por   \n",
       "736179          736179      por   \n",
       "736187          736187      por   \n",
       "736215          736215      por   \n",
       "742902          742902      por   \n",
       "748839          748839      por   \n",
       "748993          748993      por   \n",
       "752776          752776      por   \n",
       "752777          752777      por   \n",
       "752791          752791      por   \n",
       "\n",
       "                                                     sentence  \\\n",
       "tatoeba_id                                                      \n",
       "341066                        Tom está tocando violino agora.   \n",
       "341105                          Tom lidera o time de futebol.   \n",
       "376504            Tom saiu com a namorada na noite do sábado.   \n",
       "377704      De manhã Tom disse que a irmã dele ainda está ...   \n",
       "377798                      Ela casou-se com Tom mês passado.   \n",
       "384783                                    Tom é um amigo meu.   \n",
       "384821                                      Oi, Tom. Bom dia.   \n",
       "390826                     Tom fala mais devagar do que Bill.   \n",
       "393426                     Eu pedi a Tom para abrir a janela.   \n",
       "401058           Tom, o que você gostaria de comer no jantar?   \n",
       "405120                           Bom dia, disse Tom sorrindo.   \n",
       "405527                               Tom não gosta de queijo.   \n",
       "411595                                       Apresse-se, Tom.   \n",
       "419915                                  Tom gosta de tomates?   \n",
       "423925                                  Tom não jantou ontem.   \n",
       "423937                  Tom não corre tão rápido quanto Bill.   \n",
       "423938                     Tom cometeu alguns erros no teste.   \n",
       "423970                             Quem te ajudou? \"Foi Tom.\"   \n",
       "423971       Quando eu cheguei em casa, Tom estava estudando.   \n",
       "423972      Tom está na porta. Por favor peça para ele ent...   \n",
       "438860                  O Tom está a deixar o bigode crescer.   \n",
       "439616                    Tom está deixando o bigode crescer.   \n",
       "518977                      Tom me ligou ontem às 9 da manhã.   \n",
       "535202                                     Aquele bebê é Tom.   \n",
       "569329                                 Tom tem um gato preto.   \n",
       "576739                                     Eu sou Tom Hunter.   \n",
       "576752                              Tom levou Kate para casa.   \n",
       "576753                      Tom acompanhou Kate até sua casa.   \n",
       "576760                                       Tom é meu amigo.   \n",
       "576769                                  Tom perdeu o emprego.   \n",
       "579874                 Eu encontrei Tom no caminho da escola.   \n",
       "692092                     Gosto do Tom porque ele é honesto.   \n",
       "719594                          Tom é da mesma altura de Jim.   \n",
       "720939                                     Tom ligou o motor.   \n",
       "721012                     Tom errou algumas coisas na prova.   \n",
       "728023         Tom escondeu suas preocupações da mulher dele.   \n",
       "728029                               Tom cria cavalos árabes.   \n",
       "728987                                  O Tom sabe nadar bem.   \n",
       "729147                            Tom gosta de curry picante.   \n",
       "736166                 Tom não gosta de animais de estimação.   \n",
       "736178                        Tom chamou seu cachorro de Rex.   \n",
       "736179                  Tom deu o nome Rex para seu cachorro.   \n",
       "736187                                Tom ama estudar música.   \n",
       "736215                 Parece que Tom cometeu um grande erro.   \n",
       "742902                              Tom está sempre atrasado.   \n",
       "748839                                       Onde Tom nasceu?   \n",
       "748993                     Tom fez um novo vestido para Jill.   \n",
       "752776                       Você pode sempre contar com Tom.   \n",
       "752777                       Você pode sempre confiar em Tom.   \n",
       "752791                          Tio Tom é irmão da minha mãe.   \n",
       "\n",
       "                                                 sentence_new  \n",
       "tatoeba_id                                                     \n",
       "341066                       Luis está tocando violino agora.  \n",
       "341105                      Gabriel lidera o time de futebol.  \n",
       "376504          Jonas saiu com a namorada na noite do sábado.  \n",
       "377704      De manhã Santiago disse que a irmã dele ainda ...  \n",
       "377798                    Ela casou-se com Peter mês passado.  \n",
       "384783                                  Jonas é um amigo meu.  \n",
       "384821                                 Oi, Leonardo. Bom dia.  \n",
       "390826                  Sergei fala mais devagar do que Bill.  \n",
       "393426                 Eu pedi a Abraham para abrir a janela.  \n",
       "401058      Alexander, o que você gostaria de comer no jan...  \n",
       "405120                          Bom dia, disse John sorrindo.  \n",
       "405527                            Robert não gosta de queijo.  \n",
       "411595                                    Apresse-se, Sergei.  \n",
       "419915                                Jonas gosta de tomates?  \n",
       "423925                               Daniel não jantou ontem.  \n",
       "423937                 John não corre tão rápido quanto Bill.  \n",
       "423938                  Daniel cometeu alguns erros no teste.  \n",
       "423970                            Quem te ajudou? \"Foi Omar.\"  \n",
       "423971      Quando eu cheguei em casa, Jonas estava estuda...  \n",
       "423972      Peter está na porta. Por favor peça para ele e...  \n",
       "438860             O Santiago está a deixar o bigode crescer.  \n",
       "439616               Santiago está deixando o bigode crescer.  \n",
       "518977                   Robert me ligou ontem às 9 da manhã.  \n",
       "535202                                  Aquele bebê é Daniel.  \n",
       "569329                              Sergei tem um gato preto.  \n",
       "576739                                    Eu sou Omar Hunter.  \n",
       "576752                        Alexander levou Kate para casa.  \n",
       "576753                Alexander acompanhou Kate até sua casa.  \n",
       "576760                                     Jonas é meu amigo.  \n",
       "576769                                 John perdeu o emprego.  \n",
       "579874              Eu encontrei Sergei no caminho da escola.  \n",
       "692092                  Gosto do Daniel porque ele é honesto.  \n",
       "719594                       Daniel é da mesma altura de Jim.  \n",
       "720939                                    Omar ligou o motor.  \n",
       "721012                  Daniel errou algumas coisas na prova.  \n",
       "728023      Leonardo escondeu suas preocupações da mulher ...  \n",
       "728029                         Alexander cria cavalos árabes.  \n",
       "728987                                O James sabe nadar bem.  \n",
       "729147                           Luis gosta de curry picante.  \n",
       "736166               James não gosta de animais de estimação.  \n",
       "736178                      Peter chamou seu cachorro de Rex.  \n",
       "736179                Peter deu o nome Rex para seu cachorro.  \n",
       "736187                           Leonardo ama estudar música.  \n",
       "736215           Parece que Alexander cometeu um grande erro.  \n",
       "742902                           Sergei está sempre atrasado.  \n",
       "748839                                   Onde Abraham nasceu?  \n",
       "748993                 Gabriel fez um novo vestido para Jill.  \n",
       "752776                      Você pode sempre contar com Luis.  \n",
       "752777                      Você pode sempre confiar em Luis.  \n",
       "752791                       Tio Robert é irmão da minha mãe.  "
      ]
     },
     "execution_count": 21,
     "metadata": {},
     "output_type": "execute_result"
    }
   ],
   "source": [
    "rus.head(50)"
   ]
  },
  {
   "cell_type": "code",
   "execution_count": 22,
   "metadata": {},
   "outputs": [],
   "source": [
    "generator.save('../data/objects')"
   ]
  },
  {
   "cell_type": "code",
   "execution_count": 23,
   "metadata": {},
   "outputs": [
    {
     "data": {
      "text/plain": [
       "16558"
      ]
     },
     "execution_count": 23,
     "metadata": {},
     "output_type": "execute_result"
    }
   ],
   "source": [
    "len(generator.takeback_ids)"
   ]
  },
  {
   "cell_type": "code",
   "execution_count": 24,
   "metadata": {},
   "outputs": [],
   "source": [
    "rus.to_csv('por_tom.csv')"
   ]
  },
  {
   "cell_type": "code",
   "execution_count": 66,
   "metadata": {},
   "outputs": [
    {
     "data": {
      "text/plain": [
       "{78: 'I have to go to sleep.', 79: None, 80: 'What is it?'}"
      ]
     },
     "execution_count": 66,
     "metadata": {},
     "output_type": "execute_result"
    }
   ],
   "source": [
    "source_ids = [78, 79, 80]\n",
    "\n",
    "ids = data.translations[\n",
    "    (data.translations['source'].isin(source_ids)) & (data.translations['target_language'] == 'eng')\n",
    "]\n",
    "groups = ids.groupby(['source'])['target'].apply(list)\n",
    "keys = []\n",
    "mapping = {}\n",
    "for source_id in source_ids:\n",
    "    try: \n",
    "        key = groups.loc[[source_id]].to_list()[0][0]\n",
    "        keys.append(key)\n",
    "        mapping[source_id] = key\n",
    "    except KeyError:\n",
    "        mapping[source_id] = None\n",
    "\n",
    "targets = data.sentences.loc[keys]['sentence'].to_dict()\n",
    "{k: targets[v] if v is not None else None for (k,v) in mapping.items()}"
   ]
  },
  {
   "cell_type": "code",
   "execution_count": 140,
   "metadata": {
    "scrolled": true
   },
   "outputs": [
    {
     "data": {
      "text/plain": [
       "'Jonas'"
      ]
     },
     "execution_count": 140,
     "metadata": {},
     "output_type": "execute_result"
    }
   ],
   "source": [
    "generator.replacement_map[37052]"
   ]
  },
  {
   "cell_type": "code",
   "execution_count": null,
   "metadata": {
    "scrolled": true
   },
   "outputs": [],
   "source": [
    "replacer.replace_name(new_name='Mario', lang='spa', sentence='Tom es un cabrón')"
   ]
  },
  {
   "cell_type": "code",
   "execution_count": 89,
   "metadata": {},
   "outputs": [
    {
     "name": "stdout",
     "output_type": "stream",
     "text": [
      "Il m'a dit que Tom était gros Il m'a dit qu'Alejandro était gros [('que Tom', \"qu'Alejandro\")]\n"
     ]
    },
    {
     "data": {
      "text/plain": [
       "\"Il m'a dit qu'Alejandro est gros\""
      ]
     },
     "execution_count": 89,
     "metadata": {},
     "output_type": "execute_result"
    }
   ],
   "source": [
    "replacer.replace_name(\n",
    "    new_name='Alejandro', \n",
    "    lang='fra',\n",
    "    sentence='Il m\\'a dit que Tom est gros', \n",
    "    ref_sentence='He told me that Tom is fat'\n",
    ")"
   ]
  },
  {
   "cell_type": "code",
   "execution_count": 76,
   "metadata": {},
   "outputs": [],
   "source": [
    "import collections\n",
    "import stanza\n",
    "import torch\n",
    "\n",
    "from nltk.tokenize import word_tokenize\n",
    "\n",
    "# Models that are able to do Named Entity Recognition.\n",
    "ner_languages = ['spa', 'rus', 'deu', 'fra', 'nld']\n",
    "\n",
    "stanza_models = {}\n",
    "\n",
    "def count_people(sentences, lang, regex, sample = 500):\n",
    "    torch.cuda.empty_cache()\n",
    "    nlp = None\n",
    "    if lang in ner_languages:\n",
    "        if lang in stanza_models:\n",
    "            nlp = stanza_models[lang]\n",
    "        else:\n",
    "            nlp = stanza_models[lang] = stanza.Pipeline(iso_map[lang], dir='../data/models/stanza')\n",
    "    \n",
    "    lang_sentences = sentences.loc[sentences['language'] == lang].sample(sample)\n",
    "    \n",
    "    people = collections.Counter()\n",
    "\n",
    "    for index, row in lang_sentences.iterrows():\n",
    "        if nlp is not None:\n",
    "            doc = nlp(row['sentence'])\n",
    "            persons = [entity.text for entity in doc.entities if entity.type == 'PER']\n",
    "        else:\n",
    "            persons = word_tokenize(row['sentence'])\n",
    "        \n",
    "        for person in persons:\n",
    "            if re.match(regex, person):\n",
    "                people[person] += 1\n",
    "\n",
    "    return sorted(people, key=people.get, reverse=True)"
   ]
  },
  {
   "cell_type": "code",
   "execution_count": 81,
   "metadata": {
    "scrolled": true
   },
   "outputs": [],
   "source": [
    "people = [name for name in count_people(sentences, 'eng', '(Tom|Mar)', 30000)]"
   ]
  },
  {
   "cell_type": "code",
   "execution_count": 82,
   "metadata": {},
   "outputs": [
    {
     "data": {
      "text/plain": [
       "['Tom',\n",
       " 'Mary',\n",
       " 'Maria',\n",
       " 'Mars',\n",
       " 'Marie',\n",
       " 'Tomorrow',\n",
       " 'Marika',\n",
       " 'Marine',\n",
       " 'March',\n",
       " 'Marilla',\n",
       " 'Martin',\n",
       " 'Markku',\n",
       " 'Tombaugh',\n",
       " 'Marius',\n",
       " 'Maritsch',\n",
       " 'Marseille',\n",
       " 'Tomo',\n",
       " 'Martian',\n",
       " 'Marry',\n",
       " 'Marcy',\n",
       " 'Marita',\n",
       " 'Mariner',\n",
       " 'Marines',\n",
       " 'Tomatoes',\n",
       " 'Maraghna',\n",
       " 'Tomsk',\n",
       " 'Marathi',\n",
       " 'Marek',\n",
       " 'Marcus',\n",
       " 'Mark']"
      ]
     },
     "execution_count": 82,
     "metadata": {},
     "output_type": "execute_result"
    }
   ],
   "source": [
    "people"
   ]
  }
 ],
 "metadata": {
  "kernelspec": {
   "display_name": "Python 3",
   "language": "python",
   "name": "python3"
  },
  "language_info": {
   "codemirror_mode": {
    "name": "ipython",
    "version": 3
   },
   "file_extension": ".py",
   "mimetype": "text/x-python",
   "name": "python",
   "nbconvert_exporter": "python",
   "pygments_lexer": "ipython3",
   "version": "3.7.7"
  },
  "toc": {
   "nav_menu": {},
   "number_sections": true,
   "sideBar": true,
   "skip_h1_title": false,
   "toc_cell": false,
   "toc_position": {},
   "toc_section_display": "block",
   "toc_window_display": false
  }
 },
 "nbformat": 4,
 "nbformat_minor": 4
}
